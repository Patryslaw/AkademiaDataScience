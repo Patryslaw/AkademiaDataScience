{
  "nbformat": 4,
  "nbformat_minor": 0,
  "metadata": {
    "colab": {
      "provenance": []
    },
    "kernelspec": {
      "name": "python3",
      "display_name": "Python 3"
    },
    "language_info": {
      "name": "python"
    }
  },
  "cells": [
    {
      "cell_type": "markdown",
      "source": [],
      "metadata": {
        "id": "WhrnAVQJ8etP"
      }
    },
    {
      "cell_type": "markdown",
      "source": [
        "# Instalacja bibliotek\n",
        "\n",
        "Rozpoczniemy od instalacji biblioteki Logpai/Loglizer ze źródeł (Github).\n",
        "\n",
        "Potem będzemy mogli używać jej, jak każdej innej biblioteki."
      ],
      "metadata": {
        "id": "_nqT0N6vSjO2"
      }
    },
    {
      "cell_type": "code",
      "execution_count": 3,
      "metadata": {
        "colab": {
          "base_uri": "https://localhost:8080/"
        },
        "id": "wZ68tpY766Sc",
        "outputId": "ba23dbba-b1b0-4e3e-a809-384563c52b0f"
      },
      "outputs": [
        {
          "output_type": "stream",
          "name": "stdout",
          "text": [
            "fatal: destination path 'loglizer' already exists and is not an empty directory.\n"
          ]
        }
      ],
      "source": [
        "!git clone https://github.com/logpai/loglizer.git #nowa wersja nie ma Vextorize()"
      ]
    },
    {
      "cell_type": "code",
      "source": [
        "!pip install tensorflow_addons"
      ],
      "metadata": {
        "colab": {
          "base_uri": "https://localhost:8080/"
        },
        "id": "ENw5Bgvk8tmS",
        "outputId": "0dd30d1f-64f1-4c38-b605-5e8bf45aad44"
      },
      "execution_count": 4,
      "outputs": [
        {
          "output_type": "stream",
          "name": "stdout",
          "text": [
            "Collecting tensorflow_addons\n",
            "  Downloading tensorflow_addons-0.21.0-cp310-cp310-manylinux_2_17_x86_64.manylinux2014_x86_64.whl (612 kB)\n",
            "\u001b[2K     \u001b[90m━━━━━━━━━━━━━━━━━━━━━━━━━━━━━━━━━━━━━━━\u001b[0m \u001b[32m612.1/612.1 kB\u001b[0m \u001b[31m5.0 MB/s\u001b[0m eta \u001b[36m0:00:00\u001b[0m\n",
            "\u001b[?25hRequirement already satisfied: packaging in /usr/local/lib/python3.10/dist-packages (from tensorflow_addons) (23.1)\n",
            "Collecting typeguard<3.0.0,>=2.7 (from tensorflow_addons)\n",
            "  Downloading typeguard-2.13.3-py3-none-any.whl (17 kB)\n",
            "Installing collected packages: typeguard, tensorflow_addons\n",
            "Successfully installed tensorflow_addons-0.21.0 typeguard-2.13.3\n"
          ]
        }
      ]
    },
    {
      "cell_type": "markdown",
      "source": [
        "# Import bibliotek"
      ],
      "metadata": {
        "id": "onqXX5XCS3c-"
      }
    },
    {
      "cell_type": "code",
      "source": [
        "import sys\n",
        "import numpy as np\n",
        "import pandas as pd\n",
        "import tensorflow as tf\n",
        "import tensorflow_addons as tfa\n",
        "from graphviz import Graph\n",
        "\n",
        "from sklearn.metrics import classification_report\n",
        "krs = tf.keras"
      ],
      "metadata": {
        "id": "iIunxyLV7JS0",
        "outputId": "ee958fa4-3b12-447f-d5cd-1c4d485167f4",
        "colab": {
          "base_uri": "https://localhost:8080/"
        }
      },
      "execution_count": 5,
      "outputs": [
        {
          "output_type": "stream",
          "name": "stderr",
          "text": [
            "/usr/local/lib/python3.10/dist-packages/tensorflow_addons/utils/tfa_eol_msg.py:23: UserWarning: \n",
            "\n",
            "TensorFlow Addons (TFA) has ended development and introduction of new features.\n",
            "TFA has entered a minimal maintenance and release mode until a planned end of life in May 2024.\n",
            "Please modify downstream libraries to take dependencies from other repositories in our TensorFlow community (e.g. Keras, Keras-CV, and Keras-NLP). \n",
            "\n",
            "For more information see: https://github.com/tensorflow/addons/issues/2807 \n",
            "\n",
            "  warnings.warn(\n"
          ]
        }
      ]
    },
    {
      "cell_type": "code",
      "source": [
        "# Dodajemy ściągniętą bibliotekę, by była widoczna dla interpretera Pythona\n",
        "sys.path.append(\"/content/loglizer\")"
      ],
      "metadata": {
        "id": "l8PBCRYD7dgi"
      },
      "execution_count": 6,
      "outputs": []
    },
    {
      "cell_type": "markdown",
      "source": [
        "Z biblioteki Loglizer będziemy potrzebować modułów do ładownia i preprocessingu."
      ],
      "metadata": {
        "id": "M-cLuki7T0ec"
      }
    },
    {
      "cell_type": "code",
      "source": [
        "from loglizer import dataloader, preprocessing"
      ],
      "metadata": {
        "id": "IhSar8Ef7gtH"
      },
      "execution_count": 18,
      "outputs": []
    },
    {
      "cell_type": "markdown",
      "source": [
        "# Zadanie\n",
        "\n",
        "Twoim zadaniem będzie skorzystanie z biblioteki loglizer służącej do analizy logów. Biblioteka posiada wbudowane mechanizmy do zamiany logów systemowych na postać, zdatną do przetwarzania przez rekurencyjne sieci neuronowe jak LSTM czy GRU.\n",
        "\n",
        " Na podstawie przygotowanych danych w postaci okien czasowych o szerokości K\n",
        "(a więc `t-k, … t-2, t-1`) opisujących poprzednie logi i następny log w chwili t, musisz stworzyć sieć neuronową, oceniającą obecność anomalii.\n",
        "\n",
        "W zależności od przyjętego podejścia (patrz niżej), albo będzie to sieć:\n",
        "1. Przewidująca kolejny element sekwencji\n",
        "2. Oceniające prawdopodobieństwo anomalii na podstawie poprzedniej sekwencji i kolejnego elementu.\n",
        "\n",
        "\n",
        "Etykiety opisują, czy dane zdarzenie jest anomalią, czy też nie. Anomalia w tym kontekście, to zdarzenie „poza kolejnością”, coś co nie powinno się wydarzyć w czasie t, jeśli w poprzednim oknie zaszły określone zdarzenia.\n",
        "\n",
        "___________\n",
        "\n",
        ">           Przykład\n",
        "            Dana jest sekwencja\n",
        "          \t    ABCDEF\n",
        "          \tPrzyjmujemy okno czasowe = 3 i budujemy wycinki\n",
        "          \t    (ABC) -> D, anomalia = NIE\n",
        "          \t    (BCD) -> E, anomalia = NIE\n",
        "          \t    (CDE) -> F, anomalia = NIE\n",
        "          \tTo są oczekiwane zdarzenia i względem takich zdarzeń będziesz uczyć algorytm.\n",
        "          \tJeśli wystąpi zdarzenie\n",
        "          \t(ABC) -> X, to zdecydowanie jest to anomalia, bo spodziewalibyśmy się litery „D”.\n",
        "\n",
        "___________________\n",
        "# Szkolenie modelu\n",
        "\n",
        "Twoim zdaniem będzie wyszkolić model rekurencyjny (LSTM albo GRU), który:\n",
        "1. albo przewiduje NASTĘPNE zdarzenie, podobnie jak w przypadku następnego słowa albo znaku. Jest to zatem problem przewidywania sekwencji. Jeśli zdarzenie które naprawdę wystąpiło nie mieści się w top x (np. top 3, top 5) najbardziej prawdopodobnych alternatyw - jest anomalią.\n",
        "2. albo dokonuje klasyfikacji binarnej na podstawie dwóch wejść: poprzedniej sekwencji zdarzeń oraz zdarzenia następnego. Model odpowiada zatem na pytanie: czy element jest czy nie jest anomalią.\n",
        "\n",
        "\n",
        "# Ocena modelu\n",
        "\n",
        "Ocena modelu na danych testowych będzie jednak wyglądała inaczej.\n",
        "Istnieją co najmniej dwa podejścia i każde z nich warto przetestować.\n",
        "Każde z tych podejść da Ci listę “anomalii”, które porównujesz z oczekiwanymi etykietami anomalii w zbiorze testowym - tak samo, jak robi się to zazwyczaj w eksperymentach.\n",
        "\n",
        "1. **Podejście oparte o top K najbardziej prawdopodonych zdarzeń.**\n",
        "\n",
        "    Dla każdej sekwencji testowej model rekurencyjny zwróci prawdopodobieństwa wystąpienia następnych elementów.\n",
        "Dane testowe zawierają etykietę, opisującą jaki naprawdę wystąpił kolejny element.\n",
        "Sprawdzenie na zasadzie TOP X, oznacza, że musisz zweryfikować, czy prawdopodobieństwo wystąpienia rzeczywistego elementu, zwiera się w top X (np. top 3, top 5) przewidzianych prawdopodobieństw przez model.\n",
        "\n",
        "> Przykład 1:  \n",
        "\tDana jest sekwencja ABC. Kolejny element to D.  \n",
        "\tPredykcje sieci (top 3 wyróżniono):  \n",
        "\t\t**P(D | ABC) = 0.9**  \n",
        "\t\t**P(E | ABC) = 0.05**  \n",
        "\t\t**P(F | ABC) = 0.001**   \n",
        "\t\tP(G | ABC) = 0.0001  \n",
        "\t\tModel przewiduje, że następny element to D, z prawdopodobieństwem 0.9.   \n",
        "\tW takim układze, element który naprawdę wystąpił (D) NIE JEST anomalią.\n",
        "\n",
        "_________________\n",
        "\n",
        "\n",
        "> Przykład 2:  \n",
        "\tDana jest sekwencja ABC. Kolejny element to G.  \n",
        "\tPredykcje sieci (top 3 wyróżniono):  \n",
        "\t\t**P(D | ABC) = 0.9**  \n",
        "\t\t**P(E | ABC) = 0.05**  \n",
        "\t\t**P(F | ABC) = 0.001**   \n",
        "\t\tP(G | ABC) = 0.0001  \n",
        "\t\tModel przewiduje, że następny element to D, z prawdopodobieństwem 0.9.   \n",
        "\tW takim układze, element który naprawdę wystąpił (G) JEST anomalią, bo prawdopodobieństwo jego wystąpienia znajduje się poza TOP 3.\n",
        "\n",
        "\n",
        "\n",
        "2. **Podejście oparte o wykorzystanie sieci z dwoma wejściami**\n",
        "\n",
        "W drugim podejściu model ma dwa wejścia: poprzednią sekwencję i następny element. Model dokonuje klasyfikacji, czy wejście jest czy nie jest anomalią. Jest to zatem klasyczny przykład klasyfikacji.\n",
        "\n",
        "[![](https://mermaid.ink/img/pako:eNptkLtOwzAUhl_FOnOKBGMGJNr0wsAEE0mHQ3yausQXOY6itOqCxENUvE76Xrg2QZXAg2Wf79dn6z9AqTlBCpVFs2UvWaGYXw-50cbuiSuBrKH3jlS5wzWbTO7ZNCf5RpwLVbHbdcxPA5nlHdrGdT2rhlPjyMOIs1xh44aTUT2j-iZ65leeux_PPJDFX88Fxn0WIkv_wfPH8FnuSYkxsIhofHUZrqv_ZasAH_Ou352_yl8FJCDJShTcd3K4zApwW5JUQOqPnDbY1q6AQh19FFunn3tVQupsSwm0hqOjTKBvU0K6wbrxU-LCafsUew51J2BQvWo9Zo7fXx2ALQ?type=png)](https://mermaid.live/edit#pako:eNptkLtOwzAUhl_FOnOKBGMGJNr0wsAEE0mHQ3yausQXOY6itOqCxENUvE76Xrg2QZXAg2Wf79dn6z9AqTlBCpVFs2UvWaGYXw-50cbuiSuBrKH3jlS5wzWbTO7ZNCf5RpwLVbHbdcxPA5nlHdrGdT2rhlPjyMOIs1xh44aTUT2j-iZ65leeux_PPJDFX88Fxn0WIkv_wfPH8FnuSYkxsIhofHUZrqv_ZasAH_Ou352_yl8FJCDJShTcd3K4zApwW5JUQOqPnDbY1q6AQh19FFunn3tVQupsSwm0hqOjTKBvU0K6wbrxU-LCafsUew51J2BQvWo9Zo7fXx2ALQ)\n",
        "\n",
        "\n",
        "> Przykład:\n",
        "\tDla sekwencji testowej ABC, dane testowe informują, że kolejny element to E. I **jest to anomalia** (y=1).  \n",
        "\tModel przyjmuje dwa wejścia:   \n",
        "\t\t1. poprzednia sekwencja: ABC  \n",
        "\t\t2. kolejny element: E  \n",
        "\tPredykcja modelu to po prostu prawdopodobieństwo, że E jest anomalią, jak w zwykłej klasyfikacji.\n"
      ],
      "metadata": {
        "id": "AXLxQuFGTRf2"
      }
    },
    {
      "cell_type": "markdown",
      "source": [
        "# Wczytanie danych\n",
        "\n",
        "Pierwszym krokiem jest wczytanie danych z logów w postaci surowej oraz etykiet anomalii.\n",
        "1.\tPlik z logami ściągniemy jako csv spod adresu: `https://drive.google.com/uc?id=1I33xeBLzkH_0V5gmRpwk7Gk4hzUdsCKw&export=download`\n",
        "2.\tPlik z etykietami anomalii ściągniemy spod adresu: `https://drive.google.com/uc?id=1RDiWjGw-Cz6a6CTeE0GPixdRcJ2EfopG&export=download` - oficjalnego repozytorium biblioteki\n",
        "\n",
        "Pliki tym razem muszą być ściągnięte bezpośrednio poleceniem `wget` ponieważ biblioteka `loglizer` nie potrafi czytać danych pod adresami URL.\n"
      ],
      "metadata": {
        "id": "9-8vNus6S5nB"
      }
    },
    {
      "cell_type": "code",
      "source": [
        "!wget -O log_data.csv https://drive.google.com/uc?id=1I33xeBLzkH_0V5gmRpwk7Gk4hzUdsCKw&export=download"
      ],
      "metadata": {
        "colab": {
          "base_uri": "https://localhost:8080/"
        },
        "id": "Cp3E-zYOWvzG",
        "outputId": "d846fb38-892c-479d-bf20-c26c6edaf8cc"
      },
      "execution_count": 8,
      "outputs": [
        {
          "output_type": "stream",
          "name": "stdout",
          "text": [
            "--2023-08-27 13:54:35--  https://drive.google.com/uc?id=1I33xeBLzkH_0V5gmRpwk7Gk4hzUdsCKw\n",
            "Resolving drive.google.com (drive.google.com)... 74.125.23.101, 74.125.23.139, 74.125.23.102, ...\n",
            "Connecting to drive.google.com (drive.google.com)|74.125.23.101|:443... connected.\n",
            "HTTP request sent, awaiting response... 303 See Other\n",
            "Location: https://doc-0o-30-docs.googleusercontent.com/docs/securesc/ha0ro937gcuc7l7deffksulhg5h7mbp1/ivk7gdtekhhuqgqourmll2rtr30rrmnj/1693144425000/17484230016793547768/*/1I33xeBLzkH_0V5gmRpwk7Gk4hzUdsCKw?uuid=52173f14-5f25-457e-a522-6f061477791c [following]\n",
            "Warning: wildcards not supported in HTTP.\n",
            "--2023-08-27 13:54:40--  https://doc-0o-30-docs.googleusercontent.com/docs/securesc/ha0ro937gcuc7l7deffksulhg5h7mbp1/ivk7gdtekhhuqgqourmll2rtr30rrmnj/1693144425000/17484230016793547768/*/1I33xeBLzkH_0V5gmRpwk7Gk4hzUdsCKw?uuid=52173f14-5f25-457e-a522-6f061477791c\n",
            "Resolving doc-0o-30-docs.googleusercontent.com (doc-0o-30-docs.googleusercontent.com)... 74.125.204.132, 2404:6800:4008:c04::84\n",
            "Connecting to doc-0o-30-docs.googleusercontent.com (doc-0o-30-docs.googleusercontent.com)|74.125.204.132|:443... connected.\n",
            "HTTP request sent, awaiting response... 200 OK\n",
            "Length: 20787271 (20M) [text/csv]\n",
            "Saving to: ‘log_data.csv’\n",
            "\n",
            "log_data.csv        100%[===================>]  19.82M  65.5MB/s    in 0.3s    \n",
            "\n",
            "2023-08-27 13:54:41 (65.5 MB/s) - ‘log_data.csv’ saved [20787271/20787271]\n",
            "\n"
          ]
        }
      ]
    },
    {
      "cell_type": "code",
      "source": [
        "!wget -O anomaly_label.csv https://drive.google.com/uc?id=1RDiWjGw-Cz6a6CTeE0GPixdRcJ2EfopG&export=download"
      ],
      "metadata": {
        "colab": {
          "base_uri": "https://localhost:8080/"
        },
        "id": "JO0u-GbYXUDs",
        "outputId": "c38427ec-52c5-4c3f-ffa9-f51130f4e558"
      },
      "execution_count": 9,
      "outputs": [
        {
          "output_type": "stream",
          "name": "stdout",
          "text": [
            "--2023-08-27 13:54:41--  https://drive.google.com/uc?id=1RDiWjGw-Cz6a6CTeE0GPixdRcJ2EfopG\n",
            "Resolving drive.google.com (drive.google.com)... 74.125.23.101, 74.125.23.139, 74.125.23.102, ...\n",
            "Connecting to drive.google.com (drive.google.com)|74.125.23.101|:443... connected.\n",
            "HTTP request sent, awaiting response... 303 See Other\n",
            "Location: https://doc-0g-30-docs.googleusercontent.com/docs/securesc/ha0ro937gcuc7l7deffksulhg5h7mbp1/t9qbo4kcr7069qd2610fkpk1bbd2nrli/1693144425000/17484230016793547768/*/1RDiWjGw-Cz6a6CTeE0GPixdRcJ2EfopG?uuid=da082615-3440-4a2c-bd70-c9b3ba56ff79 [following]\n",
            "Warning: wildcards not supported in HTTP.\n",
            "--2023-08-27 13:54:44--  https://doc-0g-30-docs.googleusercontent.com/docs/securesc/ha0ro937gcuc7l7deffksulhg5h7mbp1/t9qbo4kcr7069qd2610fkpk1bbd2nrli/1693144425000/17484230016793547768/*/1RDiWjGw-Cz6a6CTeE0GPixdRcJ2EfopG?uuid=da082615-3440-4a2c-bd70-c9b3ba56ff79\n",
            "Resolving doc-0g-30-docs.googleusercontent.com (doc-0g-30-docs.googleusercontent.com)... 74.125.204.132, 2404:6800:4008:c04::84\n",
            "Connecting to doc-0g-30-docs.googleusercontent.com (doc-0g-30-docs.googleusercontent.com)|74.125.204.132|:443... connected.\n",
            "HTTP request sent, awaiting response... 200 OK\n",
            "Length: 18062492 (17M) [text/csv]\n",
            "Saving to: ‘anomaly_label.csv’\n",
            "\n",
            "anomaly_label.csv   100%[===================>]  17.23M  40.5MB/s    in 0.4s    \n",
            "\n",
            "2023-08-27 13:54:45 (40.5 MB/s) - ‘anomaly_label.csv’ saved [18062492/18062492]\n",
            "\n"
          ]
        }
      ]
    },
    {
      "cell_type": "code",
      "source": [
        "struct_log = r'/content/log_data.csv' # Plik csv z logiem (ściągnięty)\n",
        "label_file = r'/content/anomaly_label.csv' # Plik z etykietami anomalii (ściągnięty)"
      ],
      "metadata": {
        "id": "i3CQ2nMZ7i6W"
      },
      "execution_count": 10,
      "outputs": []
    },
    {
      "cell_type": "code",
      "source": [
        "log_data = pd.read_csv(struct_log, sep=\",\")\n",
        "anomaly_labels = pd.read_csv(label_file, sep=\";\")"
      ],
      "metadata": {
        "id": "F5KUUixaUSf8"
      },
      "execution_count": 11,
      "outputs": []
    },
    {
      "cell_type": "markdown",
      "source": [
        "Dane logów wyglądają następująco:\n",
        "\n",
        "1.\tKolumna **LineId** to numer linii w surowym logu\n",
        "2.\t**Date** i **time** to data i czas w formacie numeryczym\n",
        "3.\t**PID** jest identyfikatorem procesu w systemie. Przez większość czasu będzie używany przez bibliotekę **loglizer** do identyfikacji sesji.\n",
        "4.\t**Level** to poziom logowania\n",
        "5.\t**Component** to element systemu, który zgłosił wiadomość.\n",
        "6.\t**Content** - treść loga. Fragment `blk-XXXXX` jednoznacznie identyfikuje sesję użytkownika. Względem tego parametru biblioteka pogrupuje sekwencje.\n",
        "7.\t**EventID** - wynik mapowania treści loga na kod alfanumeryczny – tego będzie używać sieć neuronowa jako odpowiednika „słowa” albo „litery w analizę tekstu”.\n",
        "8.\t**EventTemplate** - tekstowy odpowiednik kodu alfanumerycznego. Wzorzec sekwencji.\n"
      ],
      "metadata": {
        "id": "gGLTp-GfUrqc"
      }
    },
    {
      "cell_type": "code",
      "source": [
        "log_data.head(5)"
      ],
      "metadata": {
        "colab": {
          "base_uri": "https://localhost:8080/",
          "height": 400
        },
        "id": "SXiA4d9dUuFo",
        "outputId": "2aa93e8d-41dc-437d-94b5-3c9a12b4a5fa"
      },
      "execution_count": 12,
      "outputs": [
        {
          "output_type": "execute_result",
          "data": {
            "text/plain": [
              "   LineId   Date    Time  Pid Level                     Component  \\\n",
              "0       1  81109  203518  143  INFO      dfs.DataNode$DataXceiver   \n",
              "1       2  81109  203518   35  INFO              dfs.FSNamesystem   \n",
              "2       3  81109  203519  143  INFO      dfs.DataNode$DataXceiver   \n",
              "3       4  81109  203519  145  INFO      dfs.DataNode$DataXceiver   \n",
              "4       5  81109  203519  145  INFO  dfs.DataNode$PacketResponder   \n",
              "\n",
              "                                             Content EventId  \\\n",
              "0  Receiving block blk_-1608999687919862906 src: ...      E5   \n",
              "1  BLOCK* NameSystem.allocateBlock: /mnt/hadoop/m...     E22   \n",
              "2  Receiving block blk_-1608999687919862906 src: ...      E5   \n",
              "3  Receiving block blk_-1608999687919862906 src: ...      E5   \n",
              "4  PacketResponder 1 for block blk_-1608999687919...     E11   \n",
              "\n",
              "                                   EventTemplate  \n",
              "0       Receiving block <*> src: /<*> dest: /<*>  \n",
              "1            BLOCK* NameSystem.allocateBlock:<*>  \n",
              "2       Receiving block <*> src: /<*> dest: /<*>  \n",
              "3       Receiving block <*> src: /<*> dest: /<*>  \n",
              "4  PacketResponder <*> for block <*> terminating  "
            ],
            "text/html": [
              "\n",
              "  <div id=\"df-f24ced39-e41b-4e1d-8025-c943932e62d0\" class=\"colab-df-container\">\n",
              "    <div>\n",
              "<style scoped>\n",
              "    .dataframe tbody tr th:only-of-type {\n",
              "        vertical-align: middle;\n",
              "    }\n",
              "\n",
              "    .dataframe tbody tr th {\n",
              "        vertical-align: top;\n",
              "    }\n",
              "\n",
              "    .dataframe thead th {\n",
              "        text-align: right;\n",
              "    }\n",
              "</style>\n",
              "<table border=\"1\" class=\"dataframe\">\n",
              "  <thead>\n",
              "    <tr style=\"text-align: right;\">\n",
              "      <th></th>\n",
              "      <th>LineId</th>\n",
              "      <th>Date</th>\n",
              "      <th>Time</th>\n",
              "      <th>Pid</th>\n",
              "      <th>Level</th>\n",
              "      <th>Component</th>\n",
              "      <th>Content</th>\n",
              "      <th>EventId</th>\n",
              "      <th>EventTemplate</th>\n",
              "    </tr>\n",
              "  </thead>\n",
              "  <tbody>\n",
              "    <tr>\n",
              "      <th>0</th>\n",
              "      <td>1</td>\n",
              "      <td>81109</td>\n",
              "      <td>203518</td>\n",
              "      <td>143</td>\n",
              "      <td>INFO</td>\n",
              "      <td>dfs.DataNode$DataXceiver</td>\n",
              "      <td>Receiving block blk_-1608999687919862906 src: ...</td>\n",
              "      <td>E5</td>\n",
              "      <td>Receiving block &lt;*&gt; src: /&lt;*&gt; dest: /&lt;*&gt;</td>\n",
              "    </tr>\n",
              "    <tr>\n",
              "      <th>1</th>\n",
              "      <td>2</td>\n",
              "      <td>81109</td>\n",
              "      <td>203518</td>\n",
              "      <td>35</td>\n",
              "      <td>INFO</td>\n",
              "      <td>dfs.FSNamesystem</td>\n",
              "      <td>BLOCK* NameSystem.allocateBlock: /mnt/hadoop/m...</td>\n",
              "      <td>E22</td>\n",
              "      <td>BLOCK* NameSystem.allocateBlock:&lt;*&gt;</td>\n",
              "    </tr>\n",
              "    <tr>\n",
              "      <th>2</th>\n",
              "      <td>3</td>\n",
              "      <td>81109</td>\n",
              "      <td>203519</td>\n",
              "      <td>143</td>\n",
              "      <td>INFO</td>\n",
              "      <td>dfs.DataNode$DataXceiver</td>\n",
              "      <td>Receiving block blk_-1608999687919862906 src: ...</td>\n",
              "      <td>E5</td>\n",
              "      <td>Receiving block &lt;*&gt; src: /&lt;*&gt; dest: /&lt;*&gt;</td>\n",
              "    </tr>\n",
              "    <tr>\n",
              "      <th>3</th>\n",
              "      <td>4</td>\n",
              "      <td>81109</td>\n",
              "      <td>203519</td>\n",
              "      <td>145</td>\n",
              "      <td>INFO</td>\n",
              "      <td>dfs.DataNode$DataXceiver</td>\n",
              "      <td>Receiving block blk_-1608999687919862906 src: ...</td>\n",
              "      <td>E5</td>\n",
              "      <td>Receiving block &lt;*&gt; src: /&lt;*&gt; dest: /&lt;*&gt;</td>\n",
              "    </tr>\n",
              "    <tr>\n",
              "      <th>4</th>\n",
              "      <td>5</td>\n",
              "      <td>81109</td>\n",
              "      <td>203519</td>\n",
              "      <td>145</td>\n",
              "      <td>INFO</td>\n",
              "      <td>dfs.DataNode$PacketResponder</td>\n",
              "      <td>PacketResponder 1 for block blk_-1608999687919...</td>\n",
              "      <td>E11</td>\n",
              "      <td>PacketResponder &lt;*&gt; for block &lt;*&gt; terminating</td>\n",
              "    </tr>\n",
              "  </tbody>\n",
              "</table>\n",
              "</div>\n",
              "    <div class=\"colab-df-buttons\">\n",
              "\n",
              "  <div class=\"colab-df-container\">\n",
              "    <button class=\"colab-df-convert\" onclick=\"convertToInteractive('df-f24ced39-e41b-4e1d-8025-c943932e62d0')\"\n",
              "            title=\"Convert this dataframe to an interactive table.\"\n",
              "            style=\"display:none;\">\n",
              "\n",
              "  <svg xmlns=\"http://www.w3.org/2000/svg\" height=\"24px\" viewBox=\"0 -960 960 960\">\n",
              "    <path d=\"M120-120v-720h720v720H120Zm60-500h600v-160H180v160Zm220 220h160v-160H400v160Zm0 220h160v-160H400v160ZM180-400h160v-160H180v160Zm440 0h160v-160H620v160ZM180-180h160v-160H180v160Zm440 0h160v-160H620v160Z\"/>\n",
              "  </svg>\n",
              "    </button>\n",
              "\n",
              "  <style>\n",
              "    .colab-df-container {\n",
              "      display:flex;\n",
              "      gap: 12px;\n",
              "    }\n",
              "\n",
              "    .colab-df-convert {\n",
              "      background-color: #E8F0FE;\n",
              "      border: none;\n",
              "      border-radius: 50%;\n",
              "      cursor: pointer;\n",
              "      display: none;\n",
              "      fill: #1967D2;\n",
              "      height: 32px;\n",
              "      padding: 0 0 0 0;\n",
              "      width: 32px;\n",
              "    }\n",
              "\n",
              "    .colab-df-convert:hover {\n",
              "      background-color: #E2EBFA;\n",
              "      box-shadow: 0px 1px 2px rgba(60, 64, 67, 0.3), 0px 1px 3px 1px rgba(60, 64, 67, 0.15);\n",
              "      fill: #174EA6;\n",
              "    }\n",
              "\n",
              "    .colab-df-buttons div {\n",
              "      margin-bottom: 4px;\n",
              "    }\n",
              "\n",
              "    [theme=dark] .colab-df-convert {\n",
              "      background-color: #3B4455;\n",
              "      fill: #D2E3FC;\n",
              "    }\n",
              "\n",
              "    [theme=dark] .colab-df-convert:hover {\n",
              "      background-color: #434B5C;\n",
              "      box-shadow: 0px 1px 3px 1px rgba(0, 0, 0, 0.15);\n",
              "      filter: drop-shadow(0px 1px 2px rgba(0, 0, 0, 0.3));\n",
              "      fill: #FFFFFF;\n",
              "    }\n",
              "  </style>\n",
              "\n",
              "    <script>\n",
              "      const buttonEl =\n",
              "        document.querySelector('#df-f24ced39-e41b-4e1d-8025-c943932e62d0 button.colab-df-convert');\n",
              "      buttonEl.style.display =\n",
              "        google.colab.kernel.accessAllowed ? 'block' : 'none';\n",
              "\n",
              "      async function convertToInteractive(key) {\n",
              "        const element = document.querySelector('#df-f24ced39-e41b-4e1d-8025-c943932e62d0');\n",
              "        const dataTable =\n",
              "          await google.colab.kernel.invokeFunction('convertToInteractive',\n",
              "                                                    [key], {});\n",
              "        if (!dataTable) return;\n",
              "\n",
              "        const docLinkHtml = 'Like what you see? Visit the ' +\n",
              "          '<a target=\"_blank\" href=https://colab.research.google.com/notebooks/data_table.ipynb>data table notebook</a>'\n",
              "          + ' to learn more about interactive tables.';\n",
              "        element.innerHTML = '';\n",
              "        dataTable['output_type'] = 'display_data';\n",
              "        await google.colab.output.renderOutput(dataTable, element);\n",
              "        const docLink = document.createElement('div');\n",
              "        docLink.innerHTML = docLinkHtml;\n",
              "        element.appendChild(docLink);\n",
              "      }\n",
              "    </script>\n",
              "  </div>\n",
              "\n",
              "\n",
              "<div id=\"df-d0da38c6-0bc2-40f1-a907-de2fd300ebc7\">\n",
              "  <button class=\"colab-df-quickchart\" onclick=\"quickchart('df-d0da38c6-0bc2-40f1-a907-de2fd300ebc7')\"\n",
              "            title=\"Suggest charts.\"\n",
              "            style=\"display:none;\">\n",
              "\n",
              "<svg xmlns=\"http://www.w3.org/2000/svg\" height=\"24px\"viewBox=\"0 0 24 24\"\n",
              "     width=\"24px\">\n",
              "    <g>\n",
              "        <path d=\"M19 3H5c-1.1 0-2 .9-2 2v14c0 1.1.9 2 2 2h14c1.1 0 2-.9 2-2V5c0-1.1-.9-2-2-2zM9 17H7v-7h2v7zm4 0h-2V7h2v10zm4 0h-2v-4h2v4z\"/>\n",
              "    </g>\n",
              "</svg>\n",
              "  </button>\n",
              "\n",
              "<style>\n",
              "  .colab-df-quickchart {\n",
              "    background-color: #E8F0FE;\n",
              "    border: none;\n",
              "    border-radius: 50%;\n",
              "    cursor: pointer;\n",
              "    display: none;\n",
              "    fill: #1967D2;\n",
              "    height: 32px;\n",
              "    padding: 0 0 0 0;\n",
              "    width: 32px;\n",
              "  }\n",
              "\n",
              "  .colab-df-quickchart:hover {\n",
              "    background-color: #E2EBFA;\n",
              "    box-shadow: 0px 1px 2px rgba(60, 64, 67, 0.3), 0px 1px 3px 1px rgba(60, 64, 67, 0.15);\n",
              "    fill: #174EA6;\n",
              "  }\n",
              "\n",
              "  [theme=dark] .colab-df-quickchart {\n",
              "    background-color: #3B4455;\n",
              "    fill: #D2E3FC;\n",
              "  }\n",
              "\n",
              "  [theme=dark] .colab-df-quickchart:hover {\n",
              "    background-color: #434B5C;\n",
              "    box-shadow: 0px 1px 3px 1px rgba(0, 0, 0, 0.15);\n",
              "    filter: drop-shadow(0px 1px 2px rgba(0, 0, 0, 0.3));\n",
              "    fill: #FFFFFF;\n",
              "  }\n",
              "</style>\n",
              "\n",
              "  <script>\n",
              "    async function quickchart(key) {\n",
              "      const charts = await google.colab.kernel.invokeFunction(\n",
              "          'suggestCharts', [key], {});\n",
              "    }\n",
              "    (() => {\n",
              "      let quickchartButtonEl =\n",
              "        document.querySelector('#df-d0da38c6-0bc2-40f1-a907-de2fd300ebc7 button');\n",
              "      quickchartButtonEl.style.display =\n",
              "        google.colab.kernel.accessAllowed ? 'block' : 'none';\n",
              "    })();\n",
              "  </script>\n",
              "</div>\n",
              "    </div>\n",
              "  </div>\n"
            ]
          },
          "metadata": {},
          "execution_count": 12
        }
      ]
    },
    {
      "cell_type": "markdown",
      "source": [
        "Biblioteka Loglizer podzieli dane wg. sesji (wyciągniętych `blk-XXXXX`) budując sekwencje zdarzeń.\n",
        "> Przykład:  \n",
        "Seria logów należących do sesji blk-001, może się ułożyć w wydarzenia:  \n",
        "```\n",
        "Receiving block…\n",
        "NameSystem allocate Block….\n",
        "Packer Responder …\n",
        "```  \n",
        "Co będzie odpowiadało sekwencji „słów” dla sieci neuronowej:  \n",
        "`Blk-001:  E5, E22, E11`\n",
        "\n",
        "\n",
        "Dane podzielimy w proporcji 80% do treningu, 20% do testu.\n",
        "\n",
        "Okno poprzednich wydarzeń będzie obejmowało 10 wiadomości (10 „poprzednich słów” albo „poprzednich liter”).\n"
      ],
      "metadata": {
        "id": "U9VPscxDVoTe"
      }
    },
    {
      "cell_type": "code",
      "source": [
        "train_ratio = 0.2\n",
        "window_size = 10\n",
        "np.random.seed(123)\n",
        "(x_train, window_y_train, y_train), (x_test, window_y_test, y_test) = dataloader.load_HDFS(struct_log, label_file=label_file, window='session', window_size=window_size, train_ratio=train_ratio, split_type='uniform')"
      ],
      "metadata": {
        "colab": {
          "base_uri": "https://localhost:8080/"
        },
        "id": "1fK4IOjq7nwm",
        "outputId": "c18a3d2c-6b9e-4c8e-9d02-9025325cff6f"
      },
      "execution_count": 13,
      "outputs": [
        {
          "output_type": "stream",
          "name": "stdout",
          "text": [
            "====== Input data summary ======\n",
            "Loading /content/log_data.csv\n",
            "62 251\n",
            "Slicing 1587 sessions, with window 10\n",
            "Slicing done, 8406 windows generated\n",
            "Slicing 6353 sessions, with window 10\n",
            "Slicing done, 25807 windows generated\n",
            "Train: 8406 windows (464/8406 anomaly), 7942/8406 normal\n",
            "Test: 25807 windows (842/25807 anomaly), 24965/25807 normal\n"
          ]
        }
      ]
    },
    {
      "cell_type": "markdown",
      "source": [
        "Możemy sprawdzić, jak wyglądają dane po przetworzeniu: dla każdej sesji utworzono następujące elementy:\n",
        "\n",
        "1.\tX_train/test – okno zdarzeń („liter”/”słów”) poprzedzających wydarzenie\n",
        "2.\tWindow_y_train/test – kolejne zdarzenie („litera”/”słowo”) w kolejce\n",
        "3.\tY_train – czy zdarzenie jest anomalią\n"
      ],
      "metadata": {
        "id": "M7NEgDDvZ_40"
      }
    },
    {
      "cell_type": "code",
      "source": [
        "# Okno zdarzeń treningowych\n",
        "x_train.head(5)"
      ],
      "metadata": {
        "colab": {
          "base_uri": "https://localhost:8080/",
          "height": 206
        },
        "id": "smGMClvC75DH",
        "outputId": "74742750-bd9a-4e27-c429-c41e581bff3a"
      },
      "execution_count": 14,
      "outputs": [
        {
          "output_type": "execute_result",
          "data": {
            "text/plain": [
              "   SessionId                                   EventSequence\n",
              "0          0    [E5, E5, E22, E5, E11, E11, E9, E9, E11, E9]\n",
              "1          0   [E5, E22, E5, E11, E11, E9, E9, E11, E9, E26]\n",
              "2          0  [E22, E5, E11, E11, E9, E9, E11, E9, E26, E26]\n",
              "3          0  [E5, E11, E11, E9, E9, E11, E9, E26, E26, E26]\n",
              "4          0  [E11, E11, E9, E9, E11, E9, E26, E26, E26, E2]"
            ],
            "text/html": [
              "\n",
              "  <div id=\"df-b7bbebe6-abf2-4f10-9e79-11bb102899c3\" class=\"colab-df-container\">\n",
              "    <div>\n",
              "<style scoped>\n",
              "    .dataframe tbody tr th:only-of-type {\n",
              "        vertical-align: middle;\n",
              "    }\n",
              "\n",
              "    .dataframe tbody tr th {\n",
              "        vertical-align: top;\n",
              "    }\n",
              "\n",
              "    .dataframe thead th {\n",
              "        text-align: right;\n",
              "    }\n",
              "</style>\n",
              "<table border=\"1\" class=\"dataframe\">\n",
              "  <thead>\n",
              "    <tr style=\"text-align: right;\">\n",
              "      <th></th>\n",
              "      <th>SessionId</th>\n",
              "      <th>EventSequence</th>\n",
              "    </tr>\n",
              "  </thead>\n",
              "  <tbody>\n",
              "    <tr>\n",
              "      <th>0</th>\n",
              "      <td>0</td>\n",
              "      <td>[E5, E5, E22, E5, E11, E11, E9, E9, E11, E9]</td>\n",
              "    </tr>\n",
              "    <tr>\n",
              "      <th>1</th>\n",
              "      <td>0</td>\n",
              "      <td>[E5, E22, E5, E11, E11, E9, E9, E11, E9, E26]</td>\n",
              "    </tr>\n",
              "    <tr>\n",
              "      <th>2</th>\n",
              "      <td>0</td>\n",
              "      <td>[E22, E5, E11, E11, E9, E9, E11, E9, E26, E26]</td>\n",
              "    </tr>\n",
              "    <tr>\n",
              "      <th>3</th>\n",
              "      <td>0</td>\n",
              "      <td>[E5, E11, E11, E9, E9, E11, E9, E26, E26, E26]</td>\n",
              "    </tr>\n",
              "    <tr>\n",
              "      <th>4</th>\n",
              "      <td>0</td>\n",
              "      <td>[E11, E11, E9, E9, E11, E9, E26, E26, E26, E2]</td>\n",
              "    </tr>\n",
              "  </tbody>\n",
              "</table>\n",
              "</div>\n",
              "    <div class=\"colab-df-buttons\">\n",
              "\n",
              "  <div class=\"colab-df-container\">\n",
              "    <button class=\"colab-df-convert\" onclick=\"convertToInteractive('df-b7bbebe6-abf2-4f10-9e79-11bb102899c3')\"\n",
              "            title=\"Convert this dataframe to an interactive table.\"\n",
              "            style=\"display:none;\">\n",
              "\n",
              "  <svg xmlns=\"http://www.w3.org/2000/svg\" height=\"24px\" viewBox=\"0 -960 960 960\">\n",
              "    <path d=\"M120-120v-720h720v720H120Zm60-500h600v-160H180v160Zm220 220h160v-160H400v160Zm0 220h160v-160H400v160ZM180-400h160v-160H180v160Zm440 0h160v-160H620v160ZM180-180h160v-160H180v160Zm440 0h160v-160H620v160Z\"/>\n",
              "  </svg>\n",
              "    </button>\n",
              "\n",
              "  <style>\n",
              "    .colab-df-container {\n",
              "      display:flex;\n",
              "      gap: 12px;\n",
              "    }\n",
              "\n",
              "    .colab-df-convert {\n",
              "      background-color: #E8F0FE;\n",
              "      border: none;\n",
              "      border-radius: 50%;\n",
              "      cursor: pointer;\n",
              "      display: none;\n",
              "      fill: #1967D2;\n",
              "      height: 32px;\n",
              "      padding: 0 0 0 0;\n",
              "      width: 32px;\n",
              "    }\n",
              "\n",
              "    .colab-df-convert:hover {\n",
              "      background-color: #E2EBFA;\n",
              "      box-shadow: 0px 1px 2px rgba(60, 64, 67, 0.3), 0px 1px 3px 1px rgba(60, 64, 67, 0.15);\n",
              "      fill: #174EA6;\n",
              "    }\n",
              "\n",
              "    .colab-df-buttons div {\n",
              "      margin-bottom: 4px;\n",
              "    }\n",
              "\n",
              "    [theme=dark] .colab-df-convert {\n",
              "      background-color: #3B4455;\n",
              "      fill: #D2E3FC;\n",
              "    }\n",
              "\n",
              "    [theme=dark] .colab-df-convert:hover {\n",
              "      background-color: #434B5C;\n",
              "      box-shadow: 0px 1px 3px 1px rgba(0, 0, 0, 0.15);\n",
              "      filter: drop-shadow(0px 1px 2px rgba(0, 0, 0, 0.3));\n",
              "      fill: #FFFFFF;\n",
              "    }\n",
              "  </style>\n",
              "\n",
              "    <script>\n",
              "      const buttonEl =\n",
              "        document.querySelector('#df-b7bbebe6-abf2-4f10-9e79-11bb102899c3 button.colab-df-convert');\n",
              "      buttonEl.style.display =\n",
              "        google.colab.kernel.accessAllowed ? 'block' : 'none';\n",
              "\n",
              "      async function convertToInteractive(key) {\n",
              "        const element = document.querySelector('#df-b7bbebe6-abf2-4f10-9e79-11bb102899c3');\n",
              "        const dataTable =\n",
              "          await google.colab.kernel.invokeFunction('convertToInteractive',\n",
              "                                                    [key], {});\n",
              "        if (!dataTable) return;\n",
              "\n",
              "        const docLinkHtml = 'Like what you see? Visit the ' +\n",
              "          '<a target=\"_blank\" href=https://colab.research.google.com/notebooks/data_table.ipynb>data table notebook</a>'\n",
              "          + ' to learn more about interactive tables.';\n",
              "        element.innerHTML = '';\n",
              "        dataTable['output_type'] = 'display_data';\n",
              "        await google.colab.output.renderOutput(dataTable, element);\n",
              "        const docLink = document.createElement('div');\n",
              "        docLink.innerHTML = docLinkHtml;\n",
              "        element.appendChild(docLink);\n",
              "      }\n",
              "    </script>\n",
              "  </div>\n",
              "\n",
              "\n",
              "<div id=\"df-74d1bc4e-5c2c-4aea-9d3d-b5aa2d9d792b\">\n",
              "  <button class=\"colab-df-quickchart\" onclick=\"quickchart('df-74d1bc4e-5c2c-4aea-9d3d-b5aa2d9d792b')\"\n",
              "            title=\"Suggest charts.\"\n",
              "            style=\"display:none;\">\n",
              "\n",
              "<svg xmlns=\"http://www.w3.org/2000/svg\" height=\"24px\"viewBox=\"0 0 24 24\"\n",
              "     width=\"24px\">\n",
              "    <g>\n",
              "        <path d=\"M19 3H5c-1.1 0-2 .9-2 2v14c0 1.1.9 2 2 2h14c1.1 0 2-.9 2-2V5c0-1.1-.9-2-2-2zM9 17H7v-7h2v7zm4 0h-2V7h2v10zm4 0h-2v-4h2v4z\"/>\n",
              "    </g>\n",
              "</svg>\n",
              "  </button>\n",
              "\n",
              "<style>\n",
              "  .colab-df-quickchart {\n",
              "    background-color: #E8F0FE;\n",
              "    border: none;\n",
              "    border-radius: 50%;\n",
              "    cursor: pointer;\n",
              "    display: none;\n",
              "    fill: #1967D2;\n",
              "    height: 32px;\n",
              "    padding: 0 0 0 0;\n",
              "    width: 32px;\n",
              "  }\n",
              "\n",
              "  .colab-df-quickchart:hover {\n",
              "    background-color: #E2EBFA;\n",
              "    box-shadow: 0px 1px 2px rgba(60, 64, 67, 0.3), 0px 1px 3px 1px rgba(60, 64, 67, 0.15);\n",
              "    fill: #174EA6;\n",
              "  }\n",
              "\n",
              "  [theme=dark] .colab-df-quickchart {\n",
              "    background-color: #3B4455;\n",
              "    fill: #D2E3FC;\n",
              "  }\n",
              "\n",
              "  [theme=dark] .colab-df-quickchart:hover {\n",
              "    background-color: #434B5C;\n",
              "    box-shadow: 0px 1px 3px 1px rgba(0, 0, 0, 0.15);\n",
              "    filter: drop-shadow(0px 1px 2px rgba(0, 0, 0, 0.3));\n",
              "    fill: #FFFFFF;\n",
              "  }\n",
              "</style>\n",
              "\n",
              "  <script>\n",
              "    async function quickchart(key) {\n",
              "      const charts = await google.colab.kernel.invokeFunction(\n",
              "          'suggestCharts', [key], {});\n",
              "    }\n",
              "    (() => {\n",
              "      let quickchartButtonEl =\n",
              "        document.querySelector('#df-74d1bc4e-5c2c-4aea-9d3d-b5aa2d9d792b button');\n",
              "      quickchartButtonEl.style.display =\n",
              "        google.colab.kernel.accessAllowed ? 'block' : 'none';\n",
              "    })();\n",
              "  </script>\n",
              "</div>\n",
              "    </div>\n",
              "  </div>\n"
            ]
          },
          "metadata": {},
          "execution_count": 14
        }
      ]
    },
    {
      "cell_type": "code",
      "source": [
        "# Kolejne zdarzenie w kolejce\n",
        "window_y_train.head(5)"
      ],
      "metadata": {
        "colab": {
          "base_uri": "https://localhost:8080/"
        },
        "id": "gjq1FHyGZtFl",
        "outputId": "8b5c4ac5-61e0-4ca8-97c8-eafbce293a32"
      },
      "execution_count": 15,
      "outputs": [
        {
          "output_type": "execute_result",
          "data": {
            "text/plain": [
              "0     E26\n",
              "1     E26\n",
              "2     E26\n",
              "3      E2\n",
              "4    #Pad\n",
              "Name: Label, dtype: object"
            ]
          },
          "metadata": {},
          "execution_count": 15
        }
      ]
    },
    {
      "cell_type": "code",
      "source": [
        "# Czy zdarzenie jest anomalią?\n",
        "y_train.head(5)"
      ],
      "metadata": {
        "colab": {
          "base_uri": "https://localhost:8080/"
        },
        "id": "wW5FThW_Z514",
        "outputId": "62c6d568-ab0a-4144-92f0-d0bcde488ec1"
      },
      "execution_count": 16,
      "outputs": [
        {
          "output_type": "execute_result",
          "data": {
            "text/plain": [
              "0    0\n",
              "1    0\n",
              "2    0\n",
              "3    0\n",
              "4    0\n",
              "Name: SessionLabel, dtype: int64"
            ]
          },
          "metadata": {},
          "execution_count": 16
        }
      ]
    },
    {
      "cell_type": "code",
      "source": [
        "#niestety w najnowszej wersji logizera na gicie preproc ma tylko jedną klasę i nie jest to ta, której potrzebujemy :<\n",
        "\n",
        "class Vectorizer(object):\n",
        "\n",
        "    def fit_transform(self, x_train, window_y_train, y_train):\n",
        "        self.label_mapping = {eid: idx for idx, eid in enumerate(window_y_train.unique(), 2)}\n",
        "        self.label_mapping[\"#OOV\"] = 0\n",
        "        self.label_mapping[\"#Pad\"] = 1\n",
        "        self.num_labels = len(self.label_mapping)\n",
        "        return self.transform(x_train, window_y_train, y_train)\n",
        "\n",
        "    def transform(self, x, window_y, y):\n",
        "        x[\"EventSequence\"] = x[\"EventSequence\"].map(lambda x: [self.label_mapping.get(item, 0) for item in x])\n",
        "        window_y = window_y.map(lambda x: self.label_mapping.get(x, 0))\n",
        "        y = y\n",
        "        data_dict = {\"SessionId\": x[\"SessionId\"].values, \"window_y\": window_y.values, \"y\": y.values, \"x\": np.array(x[\"EventSequence\"].tolist())}\n",
        "        return data_dict"
      ],
      "metadata": {
        "id": "c4yCFMzU-HI-"
      },
      "execution_count": 21,
      "outputs": []
    },
    {
      "cell_type": "markdown",
      "source": [
        "Ostatnią rzeczą, której dokona za nas biblioteka, jest zamiana znaków kodowych logów na identyfikatory numeryczne, których użyjemy jako „słownika” w warstwie **Embedding**."
      ],
      "metadata": {
        "id": "si3YebtSaB-7"
      }
    },
    {
      "cell_type": "code",
      "source": [
        "\n",
        "feature_extractor = Vectorizer()\n",
        "train_dataset = feature_extractor.fit_transform(x_train, window_y_train, y_train)\n",
        "test_dataset = feature_extractor.transform(x_test, window_y_test, y_test)\n"
      ],
      "metadata": {
        "id": "rl-QA8WE72tb"
      },
      "execution_count": 22,
      "outputs": []
    },
    {
      "cell_type": "code",
      "source": [
        "train_dataset.keys()"
      ],
      "metadata": {
        "id": "B7DK2Nsf-T3k",
        "outputId": "158c3c03-90c1-4920-dfcc-6e8704d239c6",
        "colab": {
          "base_uri": "https://localhost:8080/"
        }
      },
      "execution_count": 23,
      "outputs": [
        {
          "output_type": "execute_result",
          "data": {
            "text/plain": [
              "dict_keys(['SessionId', 'window_y', 'y', 'x'])"
            ]
          },
          "metadata": {},
          "execution_count": 23
        }
      ]
    },
    {
      "cell_type": "code",
      "source": [
        "train_dataset['x'][:5]\n"
      ],
      "metadata": {
        "id": "GPv2F5AU-Wsu",
        "outputId": "e22e94b6-e7dc-4694-e144-23881fa80b76",
        "colab": {
          "base_uri": "https://localhost:8080/"
        }
      },
      "execution_count": 24,
      "outputs": [
        {
          "output_type": "execute_result",
          "data": {
            "text/plain": [
              "array([[8, 8, 0, 8, 6, 6, 5, 5, 6, 5],\n",
              "       [8, 0, 8, 6, 6, 5, 5, 6, 5, 2],\n",
              "       [0, 8, 6, 6, 5, 5, 6, 5, 2, 2],\n",
              "       [8, 6, 6, 5, 5, 6, 5, 2, 2, 2],\n",
              "       [6, 6, 5, 5, 6, 5, 2, 2, 2, 3]])"
            ]
          },
          "metadata": {},
          "execution_count": 24
        }
      ]
    },
    {
      "cell_type": "code",
      "source": [
        "x_train"
      ],
      "metadata": {
        "id": "2HRJgw3H7h43",
        "outputId": "c5f2a86a-2932-4114-b9da-0e7f5c725082",
        "colab": {
          "base_uri": "https://localhost:8080/",
          "height": 424
        }
      },
      "execution_count": 25,
      "outputs": [
        {
          "output_type": "execute_result",
          "data": {
            "text/plain": [
              "      SessionId                   EventSequence\n",
              "0             0  [8, 8, 0, 8, 6, 6, 5, 5, 6, 5]\n",
              "1             0  [8, 0, 8, 6, 6, 5, 5, 6, 5, 2]\n",
              "2             0  [0, 8, 6, 6, 5, 5, 6, 5, 2, 2]\n",
              "3             0  [8, 6, 6, 5, 5, 6, 5, 2, 2, 2]\n",
              "4             0  [6, 6, 5, 5, 6, 5, 2, 2, 2, 3]\n",
              "...         ...                             ...\n",
              "8401       1585  [8, 6, 5, 6, 5, 6, 5, 2, 2, 2]\n",
              "8402       1586  [8, 8, 8, 0, 6, 5, 6, 5, 2, 2]\n",
              "8403       1586  [8, 8, 0, 6, 5, 6, 5, 2, 2, 6]\n",
              "8404       1586  [8, 0, 6, 5, 6, 5, 2, 2, 6, 5]\n",
              "8405       1586  [0, 6, 5, 6, 5, 2, 2, 6, 5, 2]\n",
              "\n",
              "[8406 rows x 2 columns]"
            ],
            "text/html": [
              "\n",
              "  <div id=\"df-7897daf5-3a16-49a8-8686-64b1b2917ef3\" class=\"colab-df-container\">\n",
              "    <div>\n",
              "<style scoped>\n",
              "    .dataframe tbody tr th:only-of-type {\n",
              "        vertical-align: middle;\n",
              "    }\n",
              "\n",
              "    .dataframe tbody tr th {\n",
              "        vertical-align: top;\n",
              "    }\n",
              "\n",
              "    .dataframe thead th {\n",
              "        text-align: right;\n",
              "    }\n",
              "</style>\n",
              "<table border=\"1\" class=\"dataframe\">\n",
              "  <thead>\n",
              "    <tr style=\"text-align: right;\">\n",
              "      <th></th>\n",
              "      <th>SessionId</th>\n",
              "      <th>EventSequence</th>\n",
              "    </tr>\n",
              "  </thead>\n",
              "  <tbody>\n",
              "    <tr>\n",
              "      <th>0</th>\n",
              "      <td>0</td>\n",
              "      <td>[8, 8, 0, 8, 6, 6, 5, 5, 6, 5]</td>\n",
              "    </tr>\n",
              "    <tr>\n",
              "      <th>1</th>\n",
              "      <td>0</td>\n",
              "      <td>[8, 0, 8, 6, 6, 5, 5, 6, 5, 2]</td>\n",
              "    </tr>\n",
              "    <tr>\n",
              "      <th>2</th>\n",
              "      <td>0</td>\n",
              "      <td>[0, 8, 6, 6, 5, 5, 6, 5, 2, 2]</td>\n",
              "    </tr>\n",
              "    <tr>\n",
              "      <th>3</th>\n",
              "      <td>0</td>\n",
              "      <td>[8, 6, 6, 5, 5, 6, 5, 2, 2, 2]</td>\n",
              "    </tr>\n",
              "    <tr>\n",
              "      <th>4</th>\n",
              "      <td>0</td>\n",
              "      <td>[6, 6, 5, 5, 6, 5, 2, 2, 2, 3]</td>\n",
              "    </tr>\n",
              "    <tr>\n",
              "      <th>...</th>\n",
              "      <td>...</td>\n",
              "      <td>...</td>\n",
              "    </tr>\n",
              "    <tr>\n",
              "      <th>8401</th>\n",
              "      <td>1585</td>\n",
              "      <td>[8, 6, 5, 6, 5, 6, 5, 2, 2, 2]</td>\n",
              "    </tr>\n",
              "    <tr>\n",
              "      <th>8402</th>\n",
              "      <td>1586</td>\n",
              "      <td>[8, 8, 8, 0, 6, 5, 6, 5, 2, 2]</td>\n",
              "    </tr>\n",
              "    <tr>\n",
              "      <th>8403</th>\n",
              "      <td>1586</td>\n",
              "      <td>[8, 8, 0, 6, 5, 6, 5, 2, 2, 6]</td>\n",
              "    </tr>\n",
              "    <tr>\n",
              "      <th>8404</th>\n",
              "      <td>1586</td>\n",
              "      <td>[8, 0, 6, 5, 6, 5, 2, 2, 6, 5]</td>\n",
              "    </tr>\n",
              "    <tr>\n",
              "      <th>8405</th>\n",
              "      <td>1586</td>\n",
              "      <td>[0, 6, 5, 6, 5, 2, 2, 6, 5, 2]</td>\n",
              "    </tr>\n",
              "  </tbody>\n",
              "</table>\n",
              "<p>8406 rows × 2 columns</p>\n",
              "</div>\n",
              "    <div class=\"colab-df-buttons\">\n",
              "\n",
              "  <div class=\"colab-df-container\">\n",
              "    <button class=\"colab-df-convert\" onclick=\"convertToInteractive('df-7897daf5-3a16-49a8-8686-64b1b2917ef3')\"\n",
              "            title=\"Convert this dataframe to an interactive table.\"\n",
              "            style=\"display:none;\">\n",
              "\n",
              "  <svg xmlns=\"http://www.w3.org/2000/svg\" height=\"24px\" viewBox=\"0 -960 960 960\">\n",
              "    <path d=\"M120-120v-720h720v720H120Zm60-500h600v-160H180v160Zm220 220h160v-160H400v160Zm0 220h160v-160H400v160ZM180-400h160v-160H180v160Zm440 0h160v-160H620v160ZM180-180h160v-160H180v160Zm440 0h160v-160H620v160Z\"/>\n",
              "  </svg>\n",
              "    </button>\n",
              "\n",
              "  <style>\n",
              "    .colab-df-container {\n",
              "      display:flex;\n",
              "      gap: 12px;\n",
              "    }\n",
              "\n",
              "    .colab-df-convert {\n",
              "      background-color: #E8F0FE;\n",
              "      border: none;\n",
              "      border-radius: 50%;\n",
              "      cursor: pointer;\n",
              "      display: none;\n",
              "      fill: #1967D2;\n",
              "      height: 32px;\n",
              "      padding: 0 0 0 0;\n",
              "      width: 32px;\n",
              "    }\n",
              "\n",
              "    .colab-df-convert:hover {\n",
              "      background-color: #E2EBFA;\n",
              "      box-shadow: 0px 1px 2px rgba(60, 64, 67, 0.3), 0px 1px 3px 1px rgba(60, 64, 67, 0.15);\n",
              "      fill: #174EA6;\n",
              "    }\n",
              "\n",
              "    .colab-df-buttons div {\n",
              "      margin-bottom: 4px;\n",
              "    }\n",
              "\n",
              "    [theme=dark] .colab-df-convert {\n",
              "      background-color: #3B4455;\n",
              "      fill: #D2E3FC;\n",
              "    }\n",
              "\n",
              "    [theme=dark] .colab-df-convert:hover {\n",
              "      background-color: #434B5C;\n",
              "      box-shadow: 0px 1px 3px 1px rgba(0, 0, 0, 0.15);\n",
              "      filter: drop-shadow(0px 1px 2px rgba(0, 0, 0, 0.3));\n",
              "      fill: #FFFFFF;\n",
              "    }\n",
              "  </style>\n",
              "\n",
              "    <script>\n",
              "      const buttonEl =\n",
              "        document.querySelector('#df-7897daf5-3a16-49a8-8686-64b1b2917ef3 button.colab-df-convert');\n",
              "      buttonEl.style.display =\n",
              "        google.colab.kernel.accessAllowed ? 'block' : 'none';\n",
              "\n",
              "      async function convertToInteractive(key) {\n",
              "        const element = document.querySelector('#df-7897daf5-3a16-49a8-8686-64b1b2917ef3');\n",
              "        const dataTable =\n",
              "          await google.colab.kernel.invokeFunction('convertToInteractive',\n",
              "                                                    [key], {});\n",
              "        if (!dataTable) return;\n",
              "\n",
              "        const docLinkHtml = 'Like what you see? Visit the ' +\n",
              "          '<a target=\"_blank\" href=https://colab.research.google.com/notebooks/data_table.ipynb>data table notebook</a>'\n",
              "          + ' to learn more about interactive tables.';\n",
              "        element.innerHTML = '';\n",
              "        dataTable['output_type'] = 'display_data';\n",
              "        await google.colab.output.renderOutput(dataTable, element);\n",
              "        const docLink = document.createElement('div');\n",
              "        docLink.innerHTML = docLinkHtml;\n",
              "        element.appendChild(docLink);\n",
              "      }\n",
              "    </script>\n",
              "  </div>\n",
              "\n",
              "\n",
              "<div id=\"df-81a33757-b18c-4f9b-96e2-9f6b400ba5e6\">\n",
              "  <button class=\"colab-df-quickchart\" onclick=\"quickchart('df-81a33757-b18c-4f9b-96e2-9f6b400ba5e6')\"\n",
              "            title=\"Suggest charts.\"\n",
              "            style=\"display:none;\">\n",
              "\n",
              "<svg xmlns=\"http://www.w3.org/2000/svg\" height=\"24px\"viewBox=\"0 0 24 24\"\n",
              "     width=\"24px\">\n",
              "    <g>\n",
              "        <path d=\"M19 3H5c-1.1 0-2 .9-2 2v14c0 1.1.9 2 2 2h14c1.1 0 2-.9 2-2V5c0-1.1-.9-2-2-2zM9 17H7v-7h2v7zm4 0h-2V7h2v10zm4 0h-2v-4h2v4z\"/>\n",
              "    </g>\n",
              "</svg>\n",
              "  </button>\n",
              "\n",
              "<style>\n",
              "  .colab-df-quickchart {\n",
              "    background-color: #E8F0FE;\n",
              "    border: none;\n",
              "    border-radius: 50%;\n",
              "    cursor: pointer;\n",
              "    display: none;\n",
              "    fill: #1967D2;\n",
              "    height: 32px;\n",
              "    padding: 0 0 0 0;\n",
              "    width: 32px;\n",
              "  }\n",
              "\n",
              "  .colab-df-quickchart:hover {\n",
              "    background-color: #E2EBFA;\n",
              "    box-shadow: 0px 1px 2px rgba(60, 64, 67, 0.3), 0px 1px 3px 1px rgba(60, 64, 67, 0.15);\n",
              "    fill: #174EA6;\n",
              "  }\n",
              "\n",
              "  [theme=dark] .colab-df-quickchart {\n",
              "    background-color: #3B4455;\n",
              "    fill: #D2E3FC;\n",
              "  }\n",
              "\n",
              "  [theme=dark] .colab-df-quickchart:hover {\n",
              "    background-color: #434B5C;\n",
              "    box-shadow: 0px 1px 3px 1px rgba(0, 0, 0, 0.15);\n",
              "    filter: drop-shadow(0px 1px 2px rgba(0, 0, 0, 0.3));\n",
              "    fill: #FFFFFF;\n",
              "  }\n",
              "</style>\n",
              "\n",
              "  <script>\n",
              "    async function quickchart(key) {\n",
              "      const charts = await google.colab.kernel.invokeFunction(\n",
              "          'suggestCharts', [key], {});\n",
              "    }\n",
              "    (() => {\n",
              "      let quickchartButtonEl =\n",
              "        document.querySelector('#df-81a33757-b18c-4f9b-96e2-9f6b400ba5e6 button');\n",
              "      quickchartButtonEl.style.display =\n",
              "        google.colab.kernel.accessAllowed ? 'block' : 'none';\n",
              "    })();\n",
              "  </script>\n",
              "</div>\n",
              "    </div>\n",
              "  </div>\n"
            ]
          },
          "metadata": {},
          "execution_count": 25
        }
      ]
    },
    {
      "cell_type": "markdown",
      "source": [
        "Utworzone zbiory danych train/test dataset zawierają te same informacje, co wcześniej ale już wyłącznie w postaci macierzowej i numerycznej.\n",
        "\n",
        "Na przykład:\n",
        "\n",
        "```\n",
        "Sekwencja E1, E10, E5  \n",
        "\n",
        "zostaje zamieniona na\n",
        "\n",
        "1, 10, 5\n",
        "```"
      ],
      "metadata": {
        "id": "Yu_j3WI8aTgX"
      }
    },
    {
      "cell_type": "code",
      "source": [
        "# Kolejne zdarzenie (słowo/litera) w sekwencji\n",
        "train_dataset['window_y'][:5]"
      ],
      "metadata": {
        "colab": {
          "base_uri": "https://localhost:8080/"
        },
        "id": "Tb8irHvmaes_",
        "outputId": "b7e27f64-12f2-45fb-e65f-99998e20eb92"
      },
      "execution_count": 26,
      "outputs": [
        {
          "output_type": "execute_result",
          "data": {
            "text/plain": [
              "array([2, 2, 2, 3, 1])"
            ]
          },
          "metadata": {},
          "execution_count": 26
        }
      ]
    },
    {
      "cell_type": "code",
      "source": [
        "# Czy jest anomalią?\n",
        "train_dataset['y'][:5]"
      ],
      "metadata": {
        "colab": {
          "base_uri": "https://localhost:8080/"
        },
        "id": "hbhKU3HWaqzU",
        "outputId": "26991036-e454-408e-d3d8-6e8f122000ec"
      },
      "execution_count": 27,
      "outputs": [
        {
          "output_type": "execute_result",
          "data": {
            "text/plain": [
              "array([0, 0, 0, 0, 0])"
            ]
          },
          "metadata": {},
          "execution_count": 27
        }
      ]
    },
    {
      "cell_type": "markdown",
      "source": [
        "# Szkolenie sieci"
      ],
      "metadata": {
        "id": "eWP2poOg8kjC"
      }
    },
    {
      "cell_type": "markdown",
      "source": [
        "Twoim zdaniem będzie przygotowanie dowolnej sieci, szkolonej na danych treningowych, wykorzystującej podane informacje.\n",
        "Sieć powinna przewidywać wystąpienie anomalii.\n",
        "\n",
        "_______________________\n",
        "\n",
        "**PODPOWIEDŹ**\n",
        "Warto wykorzystać następujące elementy:\n",
        "\n",
        "1.\tSieć przewidująca następny element:\n",
        "    1.\t**feature_extractor.num_labels** zawiera „wielkość słownika”, czyli wszystkie dopuszczalne „litery”/”słowa”. Będzie to argumentem do dwóch elementów sieci:\n",
        "        1.\tWarstwy Embedding: `input_dim=feature_extractor.num_labels+1` – słownik dopuszczalnych embeddingów (+1 dla nieznanego słowa/nieznanego znaku) oraz `input_length=X_train.shape[1]` - dł. sekwencji testowej.\n",
        "        2.\tWarstwy wyjścia z aktywacją softmax: Dense(feature_extractor.num_labels+1, activation='softmax') do przewidywania następnego elementu.\n",
        "    2.\tFunkcja kosztu ` categorical_crossentropy` ponieważ przewidujemy wiele kategorii/możliwych wartości słów.\n",
        "    3.\tPodczas testu będziesz wybierać anomalie na podstawie metody TOP X albo odcięcia prawdopodobieństwa.\n",
        "2.\tByć może warto zastanowić się nad siecią z dwoma wejściami?\n",
        "    1.\tJedno wejście – poprzednie zdarzenia (embedding o wejściu sekwencji  `input_length=X_train.shape[1]` oraz słowikiem jak wyżej)\n",
        "    2.\tKolejne wejście – zdarzenie następne (embedding z jednym elementem `input_length=1` i słownikiem)\n",
        "    3.\tWyjście – prawdopodobieństwo anomalii (wyjście: `sigmoid` funkcja kosztu: `binary_crossentropy`)\n"
      ],
      "metadata": {
        "id": "7lQuWJruav1v"
      }
    },
    {
      "cell_type": "code",
      "source": [
        "from tensorflow.keras.callbacks import EarlyStopping\n",
        "\n",
        "model_nastepny_element = krs.Sequential([\n",
        "    krs.layers.Embedding(input_dim=feature_extractor.num_labels+1, output_dim=12, input_length=train_dataset['x'].shape[1]),\n",
        "    krs.layers.Bidirectional(krs.layers.LSTM(256, return_sequences=False)),\n",
        "    krs.layers.Dropout(0.2),\n",
        "    krs.layers.Dense(256, activation='relu'),\n",
        "    krs.layers.Dropout(0.2),\n",
        "    krs.layers.Dense(128, activation='relu'),\n",
        "    krs.layers.Dropout(0.2),\n",
        "    krs.layers.Dense(64, activation='relu'),\n",
        "    krs.layers.Dropout(0.2),\n",
        "    krs.layers.Dense(16, activation='relu'),\n",
        "    krs.layers.Dropout(0.2),\n",
        "    krs.layers.Dense(8, activation='relu'),\n",
        "    krs.layers.Dropout(0.2),\n",
        "    krs.layers.Dense(4, activation='relu'),\n",
        "    krs.layers.Dropout(0.2),\n",
        "    krs.layers.Dense(2, activation='relu'),\n",
        "    krs.layers.Dropout(0.2),\n",
        "    krs.layers.Dense(feature_extractor.num_labels+1, activation='softmax')\n",
        "])\n",
        "model_nastepny_element.compile(optimizer='adam', loss='categorical_crossentropy', metrics=[tfa.metrics.F1Score(num_classes=feature_extractor.num_labels+1)])\n",
        "early_stop = EarlyStopping(monitor='val_loss', patience=5, restore_best_weights=True)"
      ],
      "metadata": {
        "id": "v_yhWAmg_ohT"
      },
      "execution_count": 99,
      "outputs": []
    },
    {
      "cell_type": "code",
      "source": [
        "history_model_next_elem = model_nastepny_element.fit(train_dataset['x'],  krs.utils.to_categorical(train_dataset['window_y'], feature_extractor.num_labels+1), epochs=20, batch_size=32, validation_split=0.2, callbacks=[early_stop])"
      ],
      "metadata": {
        "colab": {
          "base_uri": "https://localhost:8080/"
        },
        "id": "r4bjONEDWEkn",
        "outputId": "771da235-58f5-4bff-8d67-e498de71aacf"
      },
      "execution_count": 100,
      "outputs": [
        {
          "output_type": "stream",
          "name": "stdout",
          "text": [
            "Epoch 1/20\n",
            "211/211 [==============================] - 24s 84ms/step - loss: 2.4433 - f1_score: 0.0531 - val_loss: 2.3058 - val_f1_score: 0.0543\n",
            "Epoch 2/20\n",
            "211/211 [==============================] - 17s 83ms/step - loss: 2.2269 - f1_score: 0.0512 - val_loss: 2.0902 - val_f1_score: 0.0543\n",
            "Epoch 3/20\n",
            "211/211 [==============================] - 16s 76ms/step - loss: 2.0504 - f1_score: 0.0512 - val_loss: 1.9146 - val_f1_score: 0.0543\n",
            "Epoch 4/20\n",
            "211/211 [==============================] - 17s 79ms/step - loss: 1.9094 - f1_score: 0.0512 - val_loss: 1.7737 - val_f1_score: 0.0543\n",
            "Epoch 5/20\n",
            "211/211 [==============================] - 16s 78ms/step - loss: 1.7982 - f1_score: 0.0512 - val_loss: 1.6619 - val_f1_score: 0.0543\n",
            "Epoch 6/20\n",
            "211/211 [==============================] - 18s 85ms/step - loss: 1.7107 - f1_score: 0.0512 - val_loss: 1.5731 - val_f1_score: 0.0543\n",
            "Epoch 7/20\n",
            "211/211 [==============================] - 16s 76ms/step - loss: 1.6427 - f1_score: 0.0512 - val_loss: 1.5040 - val_f1_score: 0.0543\n",
            "Epoch 8/20\n",
            "211/211 [==============================] - 17s 78ms/step - loss: 1.5899 - f1_score: 0.0512 - val_loss: 1.4492 - val_f1_score: 0.0543\n",
            "Epoch 9/20\n",
            "211/211 [==============================] - 16s 78ms/step - loss: 1.5498 - f1_score: 0.0512 - val_loss: 1.4074 - val_f1_score: 0.0543\n",
            "Epoch 10/20\n",
            "211/211 [==============================] - 17s 81ms/step - loss: 1.5193 - f1_score: 0.0512 - val_loss: 1.3755 - val_f1_score: 0.0543\n",
            "Epoch 11/20\n",
            "211/211 [==============================] - 17s 79ms/step - loss: 1.4957 - f1_score: 0.0512 - val_loss: 1.3506 - val_f1_score: 0.0543\n",
            "Epoch 12/20\n",
            "211/211 [==============================] - 17s 78ms/step - loss: 1.4772 - f1_score: 0.0512 - val_loss: 1.3304 - val_f1_score: 0.0543\n",
            "Epoch 13/20\n",
            "211/211 [==============================] - 19s 88ms/step - loss: 1.4627 - f1_score: 0.0512 - val_loss: 1.3148 - val_f1_score: 0.0543\n",
            "Epoch 14/20\n",
            "211/211 [==============================] - 17s 78ms/step - loss: 1.4511 - f1_score: 0.0512 - val_loss: 1.3018 - val_f1_score: 0.0543\n",
            "Epoch 15/20\n",
            "211/211 [==============================] - 17s 79ms/step - loss: 1.4417 - f1_score: 0.0512 - val_loss: 1.2918 - val_f1_score: 0.0543\n",
            "Epoch 16/20\n",
            "211/211 [==============================] - 18s 86ms/step - loss: 1.4339 - f1_score: 0.0512 - val_loss: 1.2835 - val_f1_score: 0.0543\n",
            "Epoch 17/20\n",
            "211/211 [==============================] - 17s 78ms/step - loss: 1.4274 - f1_score: 0.0512 - val_loss: 1.2767 - val_f1_score: 0.0543\n",
            "Epoch 18/20\n",
            "211/211 [==============================] - 17s 79ms/step - loss: 1.4218 - f1_score: 0.0512 - val_loss: 1.2711 - val_f1_score: 0.0543\n",
            "Epoch 19/20\n",
            "211/211 [==============================] - 16s 78ms/step - loss: 1.4171 - f1_score: 0.0512 - val_loss: 1.2658 - val_f1_score: 0.0543\n",
            "Epoch 20/20\n",
            "211/211 [==============================] - 18s 83ms/step - loss: 1.4130 - f1_score: 0.0512 - val_loss: 1.2617 - val_f1_score: 0.0543\n"
          ]
        }
      ]
    },
    {
      "cell_type": "markdown",
      "source": [],
      "metadata": {
        "id": "OFSwqeDlcUkC"
      }
    },
    {
      "cell_type": "code",
      "source": [
        "\n",
        "model_nastepny_element.summary()"
      ],
      "metadata": {
        "colab": {
          "base_uri": "https://localhost:8080/"
        },
        "id": "60xUEV_5UnB-",
        "outputId": "a1dafc30-0c4f-44ba-e120-782af9462ac0"
      },
      "execution_count": 101,
      "outputs": [
        {
          "output_type": "stream",
          "name": "stdout",
          "text": [
            "Model: \"sequential_17\"\n",
            "_________________________________________________________________\n",
            " Layer (type)                Output Shape              Param #   \n",
            "=================================================================\n",
            " embedding_27 (Embedding)    (None, 10, 12)            156       \n",
            "                                                                 \n",
            " bidirectional_21 (Bidirecti  (None, 512)              550912    \n",
            " onal)                                                           \n",
            "                                                                 \n",
            " dropout_108 (Dropout)       (None, 512)               0         \n",
            "                                                                 \n",
            " dense_109 (Dense)           (None, 256)               131328    \n",
            "                                                                 \n",
            " dropout_109 (Dropout)       (None, 256)               0         \n",
            "                                                                 \n",
            " dense_110 (Dense)           (None, 128)               32896     \n",
            "                                                                 \n",
            " dropout_110 (Dropout)       (None, 128)               0         \n",
            "                                                                 \n",
            " dense_111 (Dense)           (None, 64)                8256      \n",
            "                                                                 \n",
            " dropout_111 (Dropout)       (None, 64)                0         \n",
            "                                                                 \n",
            " dense_112 (Dense)           (None, 16)                1040      \n",
            "                                                                 \n",
            " dropout_112 (Dropout)       (None, 16)                0         \n",
            "                                                                 \n",
            " dense_113 (Dense)           (None, 8)                 136       \n",
            "                                                                 \n",
            " dropout_113 (Dropout)       (None, 8)                 0         \n",
            "                                                                 \n",
            " dense_114 (Dense)           (None, 4)                 36        \n",
            "                                                                 \n",
            " dropout_114 (Dropout)       (None, 4)                 0         \n",
            "                                                                 \n",
            " dense_115 (Dense)           (None, 2)                 10        \n",
            "                                                                 \n",
            " dropout_115 (Dropout)       (None, 2)                 0         \n",
            "                                                                 \n",
            " dense_116 (Dense)           (None, 13)                39        \n",
            "                                                                 \n",
            "=================================================================\n",
            "Total params: 724,809\n",
            "Trainable params: 724,809\n",
            "Non-trainable params: 0\n",
            "_________________________________________________________________\n"
          ]
        }
      ]
    },
    {
      "cell_type": "markdown",
      "source": [
        "**Autotuner** - niestety nie zadziałał z nienzanych mi podowód"
      ],
      "metadata": {
        "id": "hetPiyG0t8r3"
      }
    },
    {
      "cell_type": "code",
      "source": [
        "def build_model(hp):\n",
        "    model = krs.models.Sequential()\n",
        "\n",
        "\n",
        "    hp_units = hp.Int('units', min_value=4, max_value=128, step=16)\n",
        "    hp_activations = hp.Choice('activation', values=['tanh', 'relu'])\n",
        "\n",
        "    model.add(krs.layers.Embedding(input_dim=feature_extractor.num_labels+1, output_dim=12, input_length=train_dataset['x'].shape[1]))\n",
        "    model.add(krs.layers.Bidirectional(krs.layers.LSTM(256, return_sequences=False)))\n",
        "    model.add(krs.layers.Dense(int(hp_units), hp_activations))\n",
        "    model.add(krs.layers.Dropout(0.2))\n",
        "    model.add(krs.layers.Dense(int(hp_units), hp_activations))\n",
        "    model.add(krs.layers.Dropout(0.2))\n",
        "    model.add(krs.layers.Dense(int(hp_units), hp_activations))\n",
        "    model.add(krs.layers.Dropout(0.2))\n",
        "    model.add(krs.layers.Dense(13, activation='softmax'))\n",
        "    model.compile(optimizer='adam', loss='categorical_crossentropy', metrics=[tfa.metrics.F1Score(num_classes=feature_extractor.num_labels+1)])\n",
        "    return model\n",
        "\n"
      ],
      "metadata": {
        "id": "ehshqnfqrfdu"
      },
      "execution_count": 156,
      "outputs": []
    },
    {
      "cell_type": "markdown",
      "source": [],
      "metadata": {
        "id": "8YaegM-8wBvm"
      }
    },
    {
      "cell_type": "code",
      "source": [
        "%pip install keras_tuner\n",
        "import kerastuner as kt"
      ],
      "metadata": {
        "colab": {
          "base_uri": "https://localhost:8080/"
        },
        "id": "DJC8J0-3vkC2",
        "outputId": "44666a93-7ab3-40db-8d26-1a6e2caed811"
      },
      "execution_count": 121,
      "outputs": [
        {
          "output_type": "stream",
          "name": "stdout",
          "text": [
            "Requirement already satisfied: keras_tuner in /usr/local/lib/python3.10/dist-packages (1.3.5)\n",
            "Requirement already satisfied: packaging in /usr/local/lib/python3.10/dist-packages (from keras_tuner) (23.1)\n",
            "Requirement already satisfied: requests in /usr/local/lib/python3.10/dist-packages (from keras_tuner) (2.31.0)\n",
            "Requirement already satisfied: kt-legacy in /usr/local/lib/python3.10/dist-packages (from keras_tuner) (1.0.5)\n",
            "Requirement already satisfied: charset-normalizer<4,>=2 in /usr/local/lib/python3.10/dist-packages (from requests->keras_tuner) (3.2.0)\n",
            "Requirement already satisfied: idna<4,>=2.5 in /usr/local/lib/python3.10/dist-packages (from requests->keras_tuner) (3.4)\n",
            "Requirement already satisfied: urllib3<3,>=1.21.1 in /usr/local/lib/python3.10/dist-packages (from requests->keras_tuner) (2.0.4)\n",
            "Requirement already satisfied: certifi>=2017.4.17 in /usr/local/lib/python3.10/dist-packages (from requests->keras_tuner) (2023.7.22)\n"
          ]
        },
        {
          "output_type": "stream",
          "name": "stderr",
          "text": [
            "<ipython-input-121-5e1ab4bc8f80>:2: DeprecationWarning: `import kerastuner` is deprecated, please use `import keras_tuner`.\n",
            "  import kerastuner as kt\n"
          ]
        }
      ]
    },
    {
      "cell_type": "code",
      "source": [
        "tuner = kt.Hyperband(\n",
        "    build_model,                    # Funkcja budująca moel\n",
        "    objective= 'categorical_crossentropy',               # Funkcja celu\n",
        "    max_epochs=10,                  # Max. liczba epok\n",
        "    hyperband_iterations=2,         # ilość iteracji wyboru parametrów\n",
        "    directory=\"tuner_results\",      # katalog do zapisu wyników\n",
        "    project_name='tuner',\n",
        "    executions_per_trial=5)\n",
        "\n",
        "stop_early = tf.keras.callbacks.EarlyStopping(monitor='categorical_crossentropy', patience=5)\n"
      ],
      "metadata": {
        "id": "C2S_ifP7rfnO"
      },
      "execution_count": 157,
      "outputs": []
    },
    {
      "cell_type": "code",
      "source": [
        "tuner.search(x_train, y_train, epochs=10, validation_split=0.2, callbacks=[stop_early])"
      ],
      "metadata": {
        "colab": {
          "base_uri": "https://localhost:8080/",
          "height": 1000
        },
        "id": "CELHU6yRuEYn",
        "outputId": "09176b17-65b4-4b6f-d25c-b979e4b2af65"
      },
      "execution_count": 158,
      "outputs": [
        {
          "output_type": "stream",
          "name": "stdout",
          "text": [
            "\n",
            "Search: Running Trial #8\n",
            "\n",
            "Value             |Best Value So Far |Hyperparameter\n",
            "52                |116               |units\n",
            "relu              |relu              |activation\n",
            "2                 |2                 |tuner/epochs\n",
            "0                 |0                 |tuner/initial_epoch\n",
            "2                 |2                 |tuner/bracket\n",
            "0                 |0                 |tuner/round\n",
            "\n"
          ]
        },
        {
          "output_type": "stream",
          "name": "stderr",
          "text": [
            "Traceback (most recent call last):\n",
            "  File \"/usr/local/lib/python3.10/dist-packages/keras_tuner/engine/base_tuner.py\", line 270, in _try_run_and_update_trial\n",
            "    self._run_and_update_trial(trial, *fit_args, **fit_kwargs)\n",
            "  File \"/usr/local/lib/python3.10/dist-packages/keras_tuner/engine/base_tuner.py\", line 235, in _run_and_update_trial\n",
            "    results = self.run_trial(trial, *fit_args, **fit_kwargs)\n",
            "  File \"/usr/local/lib/python3.10/dist-packages/keras_tuner/tuners/hyperband.py\", line 425, in run_trial\n",
            "    return super().run_trial(trial, *fit_args, **fit_kwargs)\n",
            "  File \"/usr/local/lib/python3.10/dist-packages/keras_tuner/engine/tuner.py\", line 287, in run_trial\n",
            "    obj_value = self._build_and_fit_model(trial, *args, **copied_kwargs)\n",
            "  File \"/usr/local/lib/python3.10/dist-packages/keras_tuner/engine/tuner.py\", line 214, in _build_and_fit_model\n",
            "    results = self.hypermodel.fit(hp, model, *args, **kwargs)\n",
            "  File \"/usr/local/lib/python3.10/dist-packages/keras_tuner/engine/hypermodel.py\", line 144, in fit\n",
            "    return model.fit(*args, **kwargs)\n",
            "  File \"/usr/local/lib/python3.10/dist-packages/keras/utils/traceback_utils.py\", line 70, in error_handler\n",
            "    raise e.with_traceback(filtered_tb) from None\n",
            "  File \"/usr/local/lib/python3.10/dist-packages/tensorflow/python/framework/constant_op.py\", line 103, in convert_to_eager_tensor\n",
            "    return ops.EagerTensor(value, ctx.device_name, dtype)\n",
            "ValueError: Failed to convert a NumPy array to a Tensor (Unsupported object type int).\n"
          ]
        },
        {
          "output_type": "error",
          "ename": "RuntimeError",
          "evalue": "ignored",
          "traceback": [
            "\u001b[0;31m---------------------------------------------------------------------------\u001b[0m",
            "\u001b[0;31mRuntimeError\u001b[0m                              Traceback (most recent call last)",
            "\u001b[0;32m<ipython-input-158-7775dfe75325>\u001b[0m in \u001b[0;36m<cell line: 1>\u001b[0;34m()\u001b[0m\n\u001b[0;32m----> 1\u001b[0;31m \u001b[0mtuner\u001b[0m\u001b[0;34m.\u001b[0m\u001b[0msearch\u001b[0m\u001b[0;34m(\u001b[0m\u001b[0mx_train\u001b[0m\u001b[0;34m,\u001b[0m \u001b[0my_train\u001b[0m\u001b[0;34m,\u001b[0m \u001b[0mepochs\u001b[0m\u001b[0;34m=\u001b[0m\u001b[0;36m10\u001b[0m\u001b[0;34m,\u001b[0m \u001b[0mvalidation_split\u001b[0m\u001b[0;34m=\u001b[0m\u001b[0;36m0.2\u001b[0m\u001b[0;34m,\u001b[0m \u001b[0mcallbacks\u001b[0m\u001b[0;34m=\u001b[0m\u001b[0;34m[\u001b[0m\u001b[0mstop_early\u001b[0m\u001b[0;34m]\u001b[0m\u001b[0;34m)\u001b[0m\u001b[0;34m\u001b[0m\u001b[0;34m\u001b[0m\u001b[0m\n\u001b[0m",
            "\u001b[0;32m/usr/local/lib/python3.10/dist-packages/keras_tuner/engine/base_tuner.py\u001b[0m in \u001b[0;36msearch\u001b[0;34m(self, *fit_args, **fit_kwargs)\u001b[0m\n\u001b[1;32m    229\u001b[0m             \u001b[0mself\u001b[0m\u001b[0;34m.\u001b[0m\u001b[0mon_trial_begin\u001b[0m\u001b[0;34m(\u001b[0m\u001b[0mtrial\u001b[0m\u001b[0;34m)\u001b[0m\u001b[0;34m\u001b[0m\u001b[0;34m\u001b[0m\u001b[0m\n\u001b[1;32m    230\u001b[0m             \u001b[0mself\u001b[0m\u001b[0;34m.\u001b[0m\u001b[0m_try_run_and_update_trial\u001b[0m\u001b[0;34m(\u001b[0m\u001b[0mtrial\u001b[0m\u001b[0;34m,\u001b[0m \u001b[0;34m*\u001b[0m\u001b[0mfit_args\u001b[0m\u001b[0;34m,\u001b[0m \u001b[0;34m**\u001b[0m\u001b[0mfit_kwargs\u001b[0m\u001b[0;34m)\u001b[0m\u001b[0;34m\u001b[0m\u001b[0;34m\u001b[0m\u001b[0m\n\u001b[0;32m--> 231\u001b[0;31m             \u001b[0mself\u001b[0m\u001b[0;34m.\u001b[0m\u001b[0mon_trial_end\u001b[0m\u001b[0;34m(\u001b[0m\u001b[0mtrial\u001b[0m\u001b[0;34m)\u001b[0m\u001b[0;34m\u001b[0m\u001b[0;34m\u001b[0m\u001b[0m\n\u001b[0m\u001b[1;32m    232\u001b[0m         \u001b[0mself\u001b[0m\u001b[0;34m.\u001b[0m\u001b[0mon_search_end\u001b[0m\u001b[0;34m(\u001b[0m\u001b[0;34m)\u001b[0m\u001b[0;34m\u001b[0m\u001b[0;34m\u001b[0m\u001b[0m\n\u001b[1;32m    233\u001b[0m \u001b[0;34m\u001b[0m\u001b[0m\n",
            "\u001b[0;32m/usr/local/lib/python3.10/dist-packages/keras_tuner/engine/base_tuner.py\u001b[0m in \u001b[0;36mon_trial_end\u001b[0;34m(self, trial)\u001b[0m\n\u001b[1;32m    333\u001b[0m             \u001b[0mtrial\u001b[0m\u001b[0;34m:\u001b[0m \u001b[0mA\u001b[0m\u001b[0;31m \u001b[0m\u001b[0;31m`\u001b[0m\u001b[0mTrial\u001b[0m\u001b[0;31m`\u001b[0m \u001b[0minstance\u001b[0m\u001b[0;34m.\u001b[0m\u001b[0;34m\u001b[0m\u001b[0;34m\u001b[0m\u001b[0m\n\u001b[1;32m    334\u001b[0m         \"\"\"\n\u001b[0;32m--> 335\u001b[0;31m         \u001b[0mself\u001b[0m\u001b[0;34m.\u001b[0m\u001b[0moracle\u001b[0m\u001b[0;34m.\u001b[0m\u001b[0mend_trial\u001b[0m\u001b[0;34m(\u001b[0m\u001b[0mtrial\u001b[0m\u001b[0;34m)\u001b[0m\u001b[0;34m\u001b[0m\u001b[0;34m\u001b[0m\u001b[0m\n\u001b[0m\u001b[1;32m    336\u001b[0m         \u001b[0;31m# Display needs the updated trial scored by the Oracle.\u001b[0m\u001b[0;34m\u001b[0m\u001b[0;34m\u001b[0m\u001b[0m\n\u001b[1;32m    337\u001b[0m         \u001b[0mself\u001b[0m\u001b[0;34m.\u001b[0m\u001b[0m_display\u001b[0m\u001b[0;34m.\u001b[0m\u001b[0mon_trial_end\u001b[0m\u001b[0;34m(\u001b[0m\u001b[0mself\u001b[0m\u001b[0;34m.\u001b[0m\u001b[0moracle\u001b[0m\u001b[0;34m.\u001b[0m\u001b[0mget_trial\u001b[0m\u001b[0;34m(\u001b[0m\u001b[0mtrial\u001b[0m\u001b[0;34m.\u001b[0m\u001b[0mtrial_id\u001b[0m\u001b[0;34m)\u001b[0m\u001b[0;34m)\u001b[0m\u001b[0;34m\u001b[0m\u001b[0;34m\u001b[0m\u001b[0m\n",
            "\u001b[0;32m/usr/local/lib/python3.10/dist-packages/keras_tuner/engine/oracle.py\u001b[0m in \u001b[0;36mwrapped_func\u001b[0;34m(*args, **kwargs)\u001b[0m\n\u001b[1;32m    105\u001b[0m             \u001b[0mLOCKS\u001b[0m\u001b[0;34m[\u001b[0m\u001b[0moracle\u001b[0m\u001b[0;34m]\u001b[0m\u001b[0;34m.\u001b[0m\u001b[0macquire\u001b[0m\u001b[0;34m(\u001b[0m\u001b[0;34m)\u001b[0m\u001b[0;34m\u001b[0m\u001b[0;34m\u001b[0m\u001b[0m\n\u001b[1;32m    106\u001b[0m             \u001b[0mTHREADS\u001b[0m\u001b[0;34m[\u001b[0m\u001b[0moracle\u001b[0m\u001b[0;34m]\u001b[0m \u001b[0;34m=\u001b[0m \u001b[0mthread_name\u001b[0m\u001b[0;34m\u001b[0m\u001b[0;34m\u001b[0m\u001b[0m\n\u001b[0;32m--> 107\u001b[0;31m         \u001b[0mret_val\u001b[0m \u001b[0;34m=\u001b[0m \u001b[0mfunc\u001b[0m\u001b[0;34m(\u001b[0m\u001b[0;34m*\u001b[0m\u001b[0margs\u001b[0m\u001b[0;34m,\u001b[0m \u001b[0;34m**\u001b[0m\u001b[0mkwargs\u001b[0m\u001b[0;34m)\u001b[0m\u001b[0;34m\u001b[0m\u001b[0;34m\u001b[0m\u001b[0m\n\u001b[0m\u001b[1;32m    108\u001b[0m         \u001b[0;32mif\u001b[0m \u001b[0mneed_acquire\u001b[0m\u001b[0;34m:\u001b[0m\u001b[0;34m\u001b[0m\u001b[0;34m\u001b[0m\u001b[0m\n\u001b[1;32m    109\u001b[0m             \u001b[0mTHREADS\u001b[0m\u001b[0;34m[\u001b[0m\u001b[0moracle\u001b[0m\u001b[0;34m]\u001b[0m \u001b[0;34m=\u001b[0m \u001b[0;32mNone\u001b[0m\u001b[0;34m\u001b[0m\u001b[0;34m\u001b[0m\u001b[0m\n",
            "\u001b[0;32m/usr/local/lib/python3.10/dist-packages/keras_tuner/engine/oracle.py\u001b[0m in \u001b[0;36mend_trial\u001b[0;34m(self, trial)\u001b[0m\n\u001b[1;32m    432\u001b[0m         \u001b[0;32mif\u001b[0m \u001b[0;32mnot\u001b[0m \u001b[0mself\u001b[0m\u001b[0;34m.\u001b[0m\u001b[0m_retry\u001b[0m\u001b[0;34m(\u001b[0m\u001b[0mtrial\u001b[0m\u001b[0;34m)\u001b[0m\u001b[0;34m:\u001b[0m\u001b[0;34m\u001b[0m\u001b[0;34m\u001b[0m\u001b[0m\n\u001b[1;32m    433\u001b[0m             \u001b[0mself\u001b[0m\u001b[0;34m.\u001b[0m\u001b[0mend_order\u001b[0m\u001b[0;34m.\u001b[0m\u001b[0mappend\u001b[0m\u001b[0;34m(\u001b[0m\u001b[0mtrial\u001b[0m\u001b[0;34m.\u001b[0m\u001b[0mtrial_id\u001b[0m\u001b[0;34m)\u001b[0m\u001b[0;34m\u001b[0m\u001b[0;34m\u001b[0m\u001b[0m\n\u001b[0;32m--> 434\u001b[0;31m             \u001b[0mself\u001b[0m\u001b[0;34m.\u001b[0m\u001b[0m_check_consecutive_failures\u001b[0m\u001b[0;34m(\u001b[0m\u001b[0;34m)\u001b[0m\u001b[0;34m\u001b[0m\u001b[0;34m\u001b[0m\u001b[0m\n\u001b[0m\u001b[1;32m    435\u001b[0m \u001b[0;34m\u001b[0m\u001b[0m\n\u001b[1;32m    436\u001b[0m         \u001b[0mself\u001b[0m\u001b[0;34m.\u001b[0m\u001b[0m_save_trial\u001b[0m\u001b[0;34m(\u001b[0m\u001b[0mtrial\u001b[0m\u001b[0;34m)\u001b[0m\u001b[0;34m\u001b[0m\u001b[0;34m\u001b[0m\u001b[0m\n",
            "\u001b[0;32m/usr/local/lib/python3.10/dist-packages/keras_tuner/engine/oracle.py\u001b[0m in \u001b[0;36m_check_consecutive_failures\u001b[0;34m(self)\u001b[0m\n\u001b[1;32m    384\u001b[0m                 \u001b[0mconsecutive_failures\u001b[0m \u001b[0;34m=\u001b[0m \u001b[0;36m0\u001b[0m\u001b[0;34m\u001b[0m\u001b[0;34m\u001b[0m\u001b[0m\n\u001b[1;32m    385\u001b[0m             \u001b[0;32mif\u001b[0m \u001b[0mconsecutive_failures\u001b[0m \u001b[0;34m==\u001b[0m \u001b[0mself\u001b[0m\u001b[0;34m.\u001b[0m\u001b[0mmax_consecutive_failed_trials\u001b[0m\u001b[0;34m:\u001b[0m\u001b[0;34m\u001b[0m\u001b[0;34m\u001b[0m\u001b[0m\n\u001b[0;32m--> 386\u001b[0;31m                 raise RuntimeError(\n\u001b[0m\u001b[1;32m    387\u001b[0m                     \u001b[0;34m\"Number of consecutive failures excceeded the limit \"\u001b[0m\u001b[0;34m\u001b[0m\u001b[0;34m\u001b[0m\u001b[0m\n\u001b[1;32m    388\u001b[0m                     \u001b[0;34mf\"of {self.max_consecutive_failed_trials}.\\n\"\u001b[0m\u001b[0;34m\u001b[0m\u001b[0;34m\u001b[0m\u001b[0m\n",
            "\u001b[0;31mRuntimeError\u001b[0m: Number of consecutive failures excceeded the limit of 3.\nTraceback (most recent call last):\n  File \"/usr/local/lib/python3.10/dist-packages/keras_tuner/engine/base_tuner.py\", line 270, in _try_run_and_update_trial\n    self._run_and_update_trial(trial, *fit_args, **fit_kwargs)\n  File \"/usr/local/lib/python3.10/dist-packages/keras_tuner/engine/base_tuner.py\", line 235, in _run_and_update_trial\n    results = self.run_trial(trial, *fit_args, **fit_kwargs)\n  File \"/usr/local/lib/python3.10/dist-packages/keras_tuner/tuners/hyperband.py\", line 425, in run_trial\n    return super().run_trial(trial, *fit_args, **fit_kwargs)\n  File \"/usr/local/lib/python3.10/dist-packages/keras_tuner/engine/tuner.py\", line 287, in run_trial\n    obj_value = self._build_and_fit_model(trial, *args, **copied_kwargs)\n  File \"/usr/local/lib/python3.10/dist-packages/keras_tuner/engine/tuner.py\", line 214, in _build_and_fit_model\n    results = self.hypermodel.fit(hp, model, *args, **kwargs)\n  File \"/usr/local/lib/python3.10/dist-packages/keras_tuner/engine/hypermodel.py\", line 144, in fit\n    return model.fit(*args, **kwargs)\n  File \"/usr/local/lib/python3.10/dist-packages/keras/utils/traceback_utils.py\", line 70, in error_handler\n    raise e.with_traceback(filtered_tb) from None\n  File \"/usr/local/lib/python3.10/dist-packages/tensorflow/python/framework/constant_op.py\", line 103, in convert_to_eager_tensor\n    return ops.EagerTensor(value, ctx.device_name, dtype)\nValueError: Failed to convert a NumPy array to a Tensor (Unsupported object type int).\n"
          ]
        }
      ]
    },
    {
      "cell_type": "code",
      "source": [
        "best_activation = tuner.get_best_hyperparameters()[0].get('activation')\n",
        "best_no_units = tuner.get_best_hyperparameters()[0].get('units')\n",
        "print(f\"Best activation: {best_activation}, best no. units: {best_no_units}\")"
      ],
      "metadata": {
        "id": "VJ0ZQJB5uGtP"
      },
      "execution_count": null,
      "outputs": []
    },
    {
      "cell_type": "code",
      "source": [
        "best_params = tuner.get_best_hyperparameters()[0]\n",
        "model = tuner.hypermodel.build(best_params)\n",
        "history = model.fit(x_train, y_train, epochs=20, validation_split=0.2)"
      ],
      "metadata": {
        "id": "fRl6pmkmuGv6"
      },
      "execution_count": null,
      "outputs": []
    },
    {
      "cell_type": "markdown",
      "source": [
        "**Anomaly**\n"
      ],
      "metadata": {
        "id": "iFtgCG1zrgdI"
      }
    },
    {
      "cell_type": "code",
      "source": [
        "inp_seq = krs.layers.Input(shape=(train_dataset['x'].shape[1]))\n",
        "embed = krs.layers.Embedding(input_dim=feature_extractor.num_labels+1, output_dim=12, input_length=train_dataset['x'].shape[1])(inp_seq)\n",
        "lstm_seq = krs.layers.LSTM(512, return_sequences=False)(embed)\n",
        "drop_seq = krs.layers.Dropout(0.2)(lstm_seq)\n",
        "dense1_seq = krs.layers.Dense(256, activation='relu')(drop_seq)\n",
        "drop2_seq = krs.layers.Dropout(0.2)(dense1_seq)\n",
        "dense2_seq = krs.layers.Dense(128, activation='relu')(drop2_seq)\n",
        "drop3_seq = krs.layers.Dropout(0.2)(dense2_seq)\n",
        "dense4_seq = krs.layers.Dense(64, activation='relu')(drop3_seq)\n",
        "drop4_seq = krs.layers.Dropout(0.2)(dense4_seq)\n",
        "dense5_seq = krs.layers.Dense(16, activation='relu')(drop4_seq)\n",
        "drop5_seq = krs.layers.Dropout(0.2)(dense5_seq)\n",
        "dense6_seq = krs.layers.Dense(8, activation='relu')(drop5_seq)\n",
        "drop6_seq = krs.layers.Dropout(0.2)(dense6_seq)\n",
        "dense7_seq = krs.layers.Dense(4, activation='relu')(drop6_seq)\n",
        "drop7_seq = krs.layers.Dropout(0.2)(dense7_seq)\n",
        "\n",
        "inp_next_elem = krs.layers.Input(shape=(1,))\n",
        "embed_next_elem = krs.layers.Embedding(input_dim=feature_extractor.num_labels+1, output_dim=12, input_length=1)(inp_next_elem)\n",
        "dense_elem = krs.layers.Dense(feature_extractor.num_labels+1, activation='relu')(inp_next_elem)\n",
        "\n",
        "concat = krs.layers.Concatenate(axis=1)([drop7_seq, dense_elem])\n",
        "out = krs.layers.Dense(1, activation='sigmoid')(concat)\n",
        "model_anomaly = krs.Model(inputs=[inp_seq, inp_next_elem], outputs=out)\n",
        "\n",
        "early_stop = EarlyStopping(monitor='val_loss', patience=5, restore_best_weights=True)\n",
        "model_anomaly.compile(loss='binary_crossentropy', optimizer='adam', metrics=[krs.metrics.Precision(), krs.metrics.Recall()])"
      ],
      "metadata": {
        "id": "YGx7aOkRDLcK"
      },
      "execution_count": 105,
      "outputs": []
    },
    {
      "cell_type": "code",
      "source": [
        "history_anomaly = model_anomaly.fit(\n",
        "    [train_dataset['x'], train_dataset['window_y']], train_dataset['y'],\n",
        "    epochs=30, batch_size=32, callbacks=[early_stop])"
      ],
      "metadata": {
        "colab": {
          "base_uri": "https://localhost:8080/"
        },
        "id": "K24nUCvKV-XQ",
        "outputId": "67d0faba-825a-4942-b94d-9bfa4290282c"
      },
      "execution_count": 106,
      "outputs": [
        {
          "output_type": "stream",
          "name": "stdout",
          "text": [
            "Epoch 1/30\n",
            "263/263 [==============================] - ETA: 0s - loss: 0.3078 - precision_2: 0.4231 - recall_2: 0.0237"
          ]
        },
        {
          "output_type": "stream",
          "name": "stderr",
          "text": [
            "WARNING:tensorflow:Early stopping conditioned on metric `val_loss` which is not available. Available metrics are: loss,precision_2,recall_2\n"
          ]
        },
        {
          "output_type": "stream",
          "name": "stdout",
          "text": [
            "\b\b\b\b\b\b\b\b\b\b\b\b\b\b\b\b\b\b\b\b\b\b\b\b\b\b\b\b\b\b\b\b\b\b\b\b\b\b\b\b\b\b\b\b\b\b\b\b\b\b\b\b\b\b\b\b\b\b\b\b\b\b\b\b\b\b\b\b\b\b\b\b\b\b\b\b\b\b\b\b\b\b\b\b\b\b\b\b\b\b\b\b\b\b\b\b\b\b\b\b\b\b\b\b\b\b\r263/263 [==============================] - 46s 155ms/step - loss: 0.3078 - precision_2: 0.4231 - recall_2: 0.0237\n",
            "Epoch 2/30\n",
            "263/263 [==============================] - ETA: 0s - loss: 0.2249 - precision_2: 0.4815 - recall_2: 0.0841"
          ]
        },
        {
          "output_type": "stream",
          "name": "stderr",
          "text": [
            "WARNING:tensorflow:Early stopping conditioned on metric `val_loss` which is not available. Available metrics are: loss,precision_2,recall_2\n"
          ]
        },
        {
          "output_type": "stream",
          "name": "stdout",
          "text": [
            "\b\b\b\b\b\b\b\b\b\b\b\b\b\b\b\b\b\b\b\b\b\b\b\b\b\b\b\b\b\b\b\b\b\b\b\b\b\b\b\b\b\b\b\b\b\b\b\b\b\b\b\b\b\b\b\b\b\b\b\b\b\b\b\b\b\b\b\b\b\b\b\b\b\b\b\b\b\b\b\b\b\b\b\b\b\b\b\b\b\b\b\b\b\b\b\b\b\b\b\b\b\b\b\b\b\b\r263/263 [==============================] - 41s 156ms/step - loss: 0.2249 - precision_2: 0.4815 - recall_2: 0.0841\n",
            "Epoch 3/30\n",
            "263/263 [==============================] - ETA: 0s - loss: 0.1993 - precision_2: 0.5312 - recall_2: 0.0733"
          ]
        },
        {
          "output_type": "stream",
          "name": "stderr",
          "text": [
            "WARNING:tensorflow:Early stopping conditioned on metric `val_loss` which is not available. Available metrics are: loss,precision_2,recall_2\n"
          ]
        },
        {
          "output_type": "stream",
          "name": "stdout",
          "text": [
            "\b\b\b\b\b\b\b\b\b\b\b\b\b\b\b\b\b\b\b\b\b\b\b\b\b\b\b\b\b\b\b\b\b\b\b\b\b\b\b\b\b\b\b\b\b\b\b\b\b\b\b\b\b\b\b\b\b\b\b\b\b\b\b\b\b\b\b\b\b\b\b\b\b\b\b\b\b\b\b\b\b\b\b\b\b\b\b\b\b\b\b\b\b\b\b\b\b\b\b\b\b\b\b\b\b\b\r263/263 [==============================] - 41s 156ms/step - loss: 0.1993 - precision_2: 0.5312 - recall_2: 0.0733\n",
            "Epoch 4/30\n",
            "263/263 [==============================] - ETA: 0s - loss: 0.1913 - precision_2: 0.5833 - recall_2: 0.0754"
          ]
        },
        {
          "output_type": "stream",
          "name": "stderr",
          "text": [
            "WARNING:tensorflow:Early stopping conditioned on metric `val_loss` which is not available. Available metrics are: loss,precision_2,recall_2\n"
          ]
        },
        {
          "output_type": "stream",
          "name": "stdout",
          "text": [
            "\b\b\b\b\b\b\b\b\b\b\b\b\b\b\b\b\b\b\b\b\b\b\b\b\b\b\b\b\b\b\b\b\b\b\b\b\b\b\b\b\b\b\b\b\b\b\b\b\b\b\b\b\b\b\b\b\b\b\b\b\b\b\b\b\b\b\b\b\b\b\b\b\b\b\b\b\b\b\b\b\b\b\b\b\b\b\b\b\b\b\b\b\b\b\b\b\b\b\b\b\b\b\b\b\b\b\r263/263 [==============================] - 40s 153ms/step - loss: 0.1913 - precision_2: 0.5833 - recall_2: 0.0754\n",
            "Epoch 5/30\n",
            "263/263 [==============================] - ETA: 0s - loss: 0.1811 - precision_2: 0.5432 - recall_2: 0.0948"
          ]
        },
        {
          "output_type": "stream",
          "name": "stderr",
          "text": [
            "WARNING:tensorflow:Early stopping conditioned on metric `val_loss` which is not available. Available metrics are: loss,precision_2,recall_2\n"
          ]
        },
        {
          "output_type": "stream",
          "name": "stdout",
          "text": [
            "\b\b\b\b\b\b\b\b\b\b\b\b\b\b\b\b\b\b\b\b\b\b\b\b\b\b\b\b\b\b\b\b\b\b\b\b\b\b\b\b\b\b\b\b\b\b\b\b\b\b\b\b\b\b\b\b\b\b\b\b\b\b\b\b\b\b\b\b\b\b\b\b\b\b\b\b\b\b\b\b\b\b\b\b\b\b\b\b\b\b\b\b\b\b\b\b\b\b\b\b\b\b\b\b\b\b\r263/263 [==============================] - 40s 151ms/step - loss: 0.1811 - precision_2: 0.5432 - recall_2: 0.0948\n",
            "Epoch 6/30\n",
            "263/263 [==============================] - ETA: 0s - loss: 0.1778 - precision_2: 0.5158 - recall_2: 0.1056"
          ]
        },
        {
          "output_type": "stream",
          "name": "stderr",
          "text": [
            "WARNING:tensorflow:Early stopping conditioned on metric `val_loss` which is not available. Available metrics are: loss,precision_2,recall_2\n"
          ]
        },
        {
          "output_type": "stream",
          "name": "stdout",
          "text": [
            "\b\b\b\b\b\b\b\b\b\b\b\b\b\b\b\b\b\b\b\b\b\b\b\b\b\b\b\b\b\b\b\b\b\b\b\b\b\b\b\b\b\b\b\b\b\b\b\b\b\b\b\b\b\b\b\b\b\b\b\b\b\b\b\b\b\b\b\b\b\b\b\b\b\b\b\b\b\b\b\b\b\b\b\b\b\b\b\b\b\b\b\b\b\b\b\b\b\b\b\b\b\b\b\b\b\b\r263/263 [==============================] - 39s 150ms/step - loss: 0.1778 - precision_2: 0.5158 - recall_2: 0.1056\n",
            "Epoch 7/30\n",
            "263/263 [==============================] - ETA: 0s - loss: 0.1785 - precision_2: 0.5436 - recall_2: 0.1746"
          ]
        },
        {
          "output_type": "stream",
          "name": "stderr",
          "text": [
            "WARNING:tensorflow:Early stopping conditioned on metric `val_loss` which is not available. Available metrics are: loss,precision_2,recall_2\n"
          ]
        },
        {
          "output_type": "stream",
          "name": "stdout",
          "text": [
            "\b\b\b\b\b\b\b\b\b\b\b\b\b\b\b\b\b\b\b\b\b\b\b\b\b\b\b\b\b\b\b\b\b\b\b\b\b\b\b\b\b\b\b\b\b\b\b\b\b\b\b\b\b\b\b\b\b\b\b\b\b\b\b\b\b\b\b\b\b\b\b\b\b\b\b\b\b\b\b\b\b\b\b\b\b\b\b\b\b\b\b\b\b\b\b\b\b\b\b\b\b\b\b\b\b\b\r263/263 [==============================] - 40s 152ms/step - loss: 0.1785 - precision_2: 0.5436 - recall_2: 0.1746\n",
            "Epoch 8/30\n",
            "263/263 [==============================] - ETA: 0s - loss: 0.1694 - precision_2: 0.6131 - recall_2: 0.2629"
          ]
        },
        {
          "output_type": "stream",
          "name": "stderr",
          "text": [
            "WARNING:tensorflow:Early stopping conditioned on metric `val_loss` which is not available. Available metrics are: loss,precision_2,recall_2\n"
          ]
        },
        {
          "output_type": "stream",
          "name": "stdout",
          "text": [
            "\b\b\b\b\b\b\b\b\b\b\b\b\b\b\b\b\b\b\b\b\b\b\b\b\b\b\b\b\b\b\b\b\b\b\b\b\b\b\b\b\b\b\b\b\b\b\b\b\b\b\b\b\b\b\b\b\b\b\b\b\b\b\b\b\b\b\b\b\b\b\b\b\b\b\b\b\b\b\b\b\b\b\b\b\b\b\b\b\b\b\b\b\b\b\b\b\b\b\b\b\b\b\b\b\b\b\r263/263 [==============================] - 40s 151ms/step - loss: 0.1694 - precision_2: 0.6131 - recall_2: 0.2629\n",
            "Epoch 9/30\n",
            "263/263 [==============================] - ETA: 0s - loss: 0.1700 - precision_2: 0.5397 - recall_2: 0.2780"
          ]
        },
        {
          "output_type": "stream",
          "name": "stderr",
          "text": [
            "WARNING:tensorflow:Early stopping conditioned on metric `val_loss` which is not available. Available metrics are: loss,precision_2,recall_2\n"
          ]
        },
        {
          "output_type": "stream",
          "name": "stdout",
          "text": [
            "\b\b\b\b\b\b\b\b\b\b\b\b\b\b\b\b\b\b\b\b\b\b\b\b\b\b\b\b\b\b\b\b\b\b\b\b\b\b\b\b\b\b\b\b\b\b\b\b\b\b\b\b\b\b\b\b\b\b\b\b\b\b\b\b\b\b\b\b\b\b\b\b\b\b\b\b\b\b\b\b\b\b\b\b\b\b\b\b\b\b\b\b\b\b\b\b\b\b\b\b\b\b\b\b\b\b\r263/263 [==============================] - 40s 151ms/step - loss: 0.1700 - precision_2: 0.5397 - recall_2: 0.2780\n",
            "Epoch 10/30\n",
            "263/263 [==============================] - ETA: 0s - loss: 0.1753 - precision_2: 0.5721 - recall_2: 0.2823"
          ]
        },
        {
          "output_type": "stream",
          "name": "stderr",
          "text": [
            "WARNING:tensorflow:Early stopping conditioned on metric `val_loss` which is not available. Available metrics are: loss,precision_2,recall_2\n"
          ]
        },
        {
          "output_type": "stream",
          "name": "stdout",
          "text": [
            "\b\b\b\b\b\b\b\b\b\b\b\b\b\b\b\b\b\b\b\b\b\b\b\b\b\b\b\b\b\b\b\b\b\b\b\b\b\b\b\b\b\b\b\b\b\b\b\b\b\b\b\b\b\b\b\b\b\b\b\b\b\b\b\b\b\b\b\b\b\b\b\b\b\b\b\b\b\b\b\b\b\b\b\b\b\b\b\b\b\b\b\b\b\b\b\b\b\b\b\b\b\b\b\b\b\b\r263/263 [==============================] - 40s 153ms/step - loss: 0.1753 - precision_2: 0.5721 - recall_2: 0.2823\n",
            "Epoch 11/30\n",
            "263/263 [==============================] - ETA: 0s - loss: 0.1689 - precision_2: 0.5806 - recall_2: 0.2716"
          ]
        },
        {
          "output_type": "stream",
          "name": "stderr",
          "text": [
            "WARNING:tensorflow:Early stopping conditioned on metric `val_loss` which is not available. Available metrics are: loss,precision_2,recall_2\n"
          ]
        },
        {
          "output_type": "stream",
          "name": "stdout",
          "text": [
            "\b\b\b\b\b\b\b\b\b\b\b\b\b\b\b\b\b\b\b\b\b\b\b\b\b\b\b\b\b\b\b\b\b\b\b\b\b\b\b\b\b\b\b\b\b\b\b\b\b\b\b\b\b\b\b\b\b\b\b\b\b\b\b\b\b\b\b\b\b\b\b\b\b\b\b\b\b\b\b\b\b\b\b\b\b\b\b\b\b\b\b\b\b\b\b\b\b\b\b\b\b\b\b\b\b\b\r263/263 [==============================] - 41s 155ms/step - loss: 0.1689 - precision_2: 0.5806 - recall_2: 0.2716\n",
            "Epoch 12/30\n",
            "263/263 [==============================] - ETA: 0s - loss: 0.1678 - precision_2: 0.5571 - recall_2: 0.2522"
          ]
        },
        {
          "output_type": "stream",
          "name": "stderr",
          "text": [
            "WARNING:tensorflow:Early stopping conditioned on metric `val_loss` which is not available. Available metrics are: loss,precision_2,recall_2\n"
          ]
        },
        {
          "output_type": "stream",
          "name": "stdout",
          "text": [
            "\b\b\b\b\b\b\b\b\b\b\b\b\b\b\b\b\b\b\b\b\b\b\b\b\b\b\b\b\b\b\b\b\b\b\b\b\b\b\b\b\b\b\b\b\b\b\b\b\b\b\b\b\b\b\b\b\b\b\b\b\b\b\b\b\b\b\b\b\b\b\b\b\b\b\b\b\b\b\b\b\b\b\b\b\b\b\b\b\b\b\b\b\b\b\b\b\b\b\b\b\b\b\b\b\b\b\r263/263 [==============================] - 41s 157ms/step - loss: 0.1678 - precision_2: 0.5571 - recall_2: 0.2522\n",
            "Epoch 13/30\n",
            "263/263 [==============================] - ETA: 0s - loss: 0.1698 - precision_2: 0.5631 - recall_2: 0.2500"
          ]
        },
        {
          "output_type": "stream",
          "name": "stderr",
          "text": [
            "WARNING:tensorflow:Early stopping conditioned on metric `val_loss` which is not available. Available metrics are: loss,precision_2,recall_2\n"
          ]
        },
        {
          "output_type": "stream",
          "name": "stdout",
          "text": [
            "\b\b\b\b\b\b\b\b\b\b\b\b\b\b\b\b\b\b\b\b\b\b\b\b\b\b\b\b\b\b\b\b\b\b\b\b\b\b\b\b\b\b\b\b\b\b\b\b\b\b\b\b\b\b\b\b\b\b\b\b\b\b\b\b\b\b\b\b\b\b\b\b\b\b\b\b\b\b\b\b\b\b\b\b\b\b\b\b\b\b\b\b\b\b\b\b\b\b\b\b\b\b\b\b\b\b\r263/263 [==============================] - 40s 152ms/step - loss: 0.1698 - precision_2: 0.5631 - recall_2: 0.2500\n",
            "Epoch 14/30\n",
            "263/263 [==============================] - ETA: 0s - loss: 0.1670 - precision_2: 0.5307 - recall_2: 0.3168"
          ]
        },
        {
          "output_type": "stream",
          "name": "stderr",
          "text": [
            "WARNING:tensorflow:Early stopping conditioned on metric `val_loss` which is not available. Available metrics are: loss,precision_2,recall_2\n"
          ]
        },
        {
          "output_type": "stream",
          "name": "stdout",
          "text": [
            "\b\b\b\b\b\b\b\b\b\b\b\b\b\b\b\b\b\b\b\b\b\b\b\b\b\b\b\b\b\b\b\b\b\b\b\b\b\b\b\b\b\b\b\b\b\b\b\b\b\b\b\b\b\b\b\b\b\b\b\b\b\b\b\b\b\b\b\b\b\b\b\b\b\b\b\b\b\b\b\b\b\b\b\b\b\b\b\b\b\b\b\b\b\b\b\b\b\b\b\b\b\b\b\b\b\b\r263/263 [==============================] - 40s 151ms/step - loss: 0.1670 - precision_2: 0.5307 - recall_2: 0.3168\n",
            "Epoch 15/30\n",
            "263/263 [==============================] - ETA: 0s - loss: 0.1651 - precision_2: 0.5467 - recall_2: 0.2651"
          ]
        },
        {
          "output_type": "stream",
          "name": "stderr",
          "text": [
            "WARNING:tensorflow:Early stopping conditioned on metric `val_loss` which is not available. Available metrics are: loss,precision_2,recall_2\n"
          ]
        },
        {
          "output_type": "stream",
          "name": "stdout",
          "text": [
            "\b\b\b\b\b\b\b\b\b\b\b\b\b\b\b\b\b\b\b\b\b\b\b\b\b\b\b\b\b\b\b\b\b\b\b\b\b\b\b\b\b\b\b\b\b\b\b\b\b\b\b\b\b\b\b\b\b\b\b\b\b\b\b\b\b\b\b\b\b\b\b\b\b\b\b\b\b\b\b\b\b\b\b\b\b\b\b\b\b\b\b\b\b\b\b\b\b\b\b\b\b\b\b\b\b\b\r263/263 [==============================] - 40s 153ms/step - loss: 0.1651 - precision_2: 0.5467 - recall_2: 0.2651\n",
            "Epoch 16/30\n",
            "263/263 [==============================] - ETA: 0s - loss: 0.1665 - precision_2: 0.5754 - recall_2: 0.3125"
          ]
        },
        {
          "output_type": "stream",
          "name": "stderr",
          "text": [
            "WARNING:tensorflow:Early stopping conditioned on metric `val_loss` which is not available. Available metrics are: loss,precision_2,recall_2\n"
          ]
        },
        {
          "output_type": "stream",
          "name": "stdout",
          "text": [
            "\b\b\b\b\b\b\b\b\b\b\b\b\b\b\b\b\b\b\b\b\b\b\b\b\b\b\b\b\b\b\b\b\b\b\b\b\b\b\b\b\b\b\b\b\b\b\b\b\b\b\b\b\b\b\b\b\b\b\b\b\b\b\b\b\b\b\b\b\b\b\b\b\b\b\b\b\b\b\b\b\b\b\b\b\b\b\b\b\b\b\b\b\b\b\b\b\b\b\b\b\b\b\b\b\b\b\r263/263 [==============================] - 42s 160ms/step - loss: 0.1665 - precision_2: 0.5754 - recall_2: 0.3125\n",
            "Epoch 17/30\n",
            "263/263 [==============================] - ETA: 0s - loss: 0.1649 - precision_2: 0.5670 - recall_2: 0.3556"
          ]
        },
        {
          "output_type": "stream",
          "name": "stderr",
          "text": [
            "WARNING:tensorflow:Early stopping conditioned on metric `val_loss` which is not available. Available metrics are: loss,precision_2,recall_2\n"
          ]
        },
        {
          "output_type": "stream",
          "name": "stdout",
          "text": [
            "\b\b\b\b\b\b\b\b\b\b\b\b\b\b\b\b\b\b\b\b\b\b\b\b\b\b\b\b\b\b\b\b\b\b\b\b\b\b\b\b\b\b\b\b\b\b\b\b\b\b\b\b\b\b\b\b\b\b\b\b\b\b\b\b\b\b\b\b\b\b\b\b\b\b\b\b\b\b\b\b\b\b\b\b\b\b\b\b\b\b\b\b\b\b\b\b\b\b\b\b\b\b\b\b\b\b\r263/263 [==============================] - 42s 160ms/step - loss: 0.1649 - precision_2: 0.5670 - recall_2: 0.3556\n",
            "Epoch 18/30\n",
            "263/263 [==============================] - ETA: 0s - loss: 0.1652 - precision_2: 0.5958 - recall_2: 0.3082"
          ]
        },
        {
          "output_type": "stream",
          "name": "stderr",
          "text": [
            "WARNING:tensorflow:Early stopping conditioned on metric `val_loss` which is not available. Available metrics are: loss,precision_2,recall_2\n"
          ]
        },
        {
          "output_type": "stream",
          "name": "stdout",
          "text": [
            "\b\b\b\b\b\b\b\b\b\b\b\b\b\b\b\b\b\b\b\b\b\b\b\b\b\b\b\b\b\b\b\b\b\b\b\b\b\b\b\b\b\b\b\b\b\b\b\b\b\b\b\b\b\b\b\b\b\b\b\b\b\b\b\b\b\b\b\b\b\b\b\b\b\b\b\b\b\b\b\b\b\b\b\b\b\b\b\b\b\b\b\b\b\b\b\b\b\b\b\b\b\b\b\b\b\b\r263/263 [==============================] - 41s 158ms/step - loss: 0.1652 - precision_2: 0.5958 - recall_2: 0.3082\n",
            "Epoch 19/30\n",
            "263/263 [==============================] - ETA: 0s - loss: 0.1642 - precision_2: 0.5547 - recall_2: 0.3276"
          ]
        },
        {
          "output_type": "stream",
          "name": "stderr",
          "text": [
            "WARNING:tensorflow:Early stopping conditioned on metric `val_loss` which is not available. Available metrics are: loss,precision_2,recall_2\n"
          ]
        },
        {
          "output_type": "stream",
          "name": "stdout",
          "text": [
            "\b\b\b\b\b\b\b\b\b\b\b\b\b\b\b\b\b\b\b\b\b\b\b\b\b\b\b\b\b\b\b\b\b\b\b\b\b\b\b\b\b\b\b\b\b\b\b\b\b\b\b\b\b\b\b\b\b\b\b\b\b\b\b\b\b\b\b\b\b\b\b\b\b\b\b\b\b\b\b\b\b\b\b\b\b\b\b\b\b\b\b\b\b\b\b\b\b\b\b\b\b\b\b\b\b\b\r263/263 [==============================] - 40s 152ms/step - loss: 0.1642 - precision_2: 0.5547 - recall_2: 0.3276\n",
            "Epoch 20/30\n",
            "263/263 [==============================] - ETA: 0s - loss: 0.1652 - precision_2: 0.5344 - recall_2: 0.3017"
          ]
        },
        {
          "output_type": "stream",
          "name": "stderr",
          "text": [
            "WARNING:tensorflow:Early stopping conditioned on metric `val_loss` which is not available. Available metrics are: loss,precision_2,recall_2\n"
          ]
        },
        {
          "output_type": "stream",
          "name": "stdout",
          "text": [
            "\b\b\b\b\b\b\b\b\b\b\b\b\b\b\b\b\b\b\b\b\b\b\b\b\b\b\b\b\b\b\b\b\b\b\b\b\b\b\b\b\b\b\b\b\b\b\b\b\b\b\b\b\b\b\b\b\b\b\b\b\b\b\b\b\b\b\b\b\b\b\b\b\b\b\b\b\b\b\b\b\b\b\b\b\b\b\b\b\b\b\b\b\b\b\b\b\b\b\b\b\b\b\b\b\b\b\r263/263 [==============================] - 40s 152ms/step - loss: 0.1652 - precision_2: 0.5344 - recall_2: 0.3017\n",
            "Epoch 21/30\n",
            "263/263 [==============================] - ETA: 0s - loss: 0.1654 - precision_2: 0.5294 - recall_2: 0.2716"
          ]
        },
        {
          "output_type": "stream",
          "name": "stderr",
          "text": [
            "WARNING:tensorflow:Early stopping conditioned on metric `val_loss` which is not available. Available metrics are: loss,precision_2,recall_2\n"
          ]
        },
        {
          "output_type": "stream",
          "name": "stdout",
          "text": [
            "\b\b\b\b\b\b\b\b\b\b\b\b\b\b\b\b\b\b\b\b\b\b\b\b\b\b\b\b\b\b\b\b\b\b\b\b\b\b\b\b\b\b\b\b\b\b\b\b\b\b\b\b\b\b\b\b\b\b\b\b\b\b\b\b\b\b\b\b\b\b\b\b\b\b\b\b\b\b\b\b\b\b\b\b\b\b\b\b\b\b\b\b\b\b\b\b\b\b\b\b\b\b\b\b\b\b\r263/263 [==============================] - 40s 153ms/step - loss: 0.1654 - precision_2: 0.5294 - recall_2: 0.2716\n",
            "Epoch 22/30\n",
            "263/263 [==============================] - ETA: 0s - loss: 0.1656 - precision_2: 0.5701 - recall_2: 0.2629"
          ]
        },
        {
          "output_type": "stream",
          "name": "stderr",
          "text": [
            "WARNING:tensorflow:Early stopping conditioned on metric `val_loss` which is not available. Available metrics are: loss,precision_2,recall_2\n"
          ]
        },
        {
          "output_type": "stream",
          "name": "stdout",
          "text": [
            "\b\b\b\b\b\b\b\b\b\b\b\b\b\b\b\b\b\b\b\b\b\b\b\b\b\b\b\b\b\b\b\b\b\b\b\b\b\b\b\b\b\b\b\b\b\b\b\b\b\b\b\b\b\b\b\b\b\b\b\b\b\b\b\b\b\b\b\b\b\b\b\b\b\b\b\b\b\b\b\b\b\b\b\b\b\b\b\b\b\b\b\b\b\b\b\b\b\b\b\b\b\b\b\b\b\b\r263/263 [==============================] - 40s 150ms/step - loss: 0.1656 - precision_2: 0.5701 - recall_2: 0.2629\n",
            "Epoch 23/30\n",
            "263/263 [==============================] - ETA: 0s - loss: 0.1647 - precision_2: 0.5339 - recall_2: 0.2716"
          ]
        },
        {
          "output_type": "stream",
          "name": "stderr",
          "text": [
            "WARNING:tensorflow:Early stopping conditioned on metric `val_loss` which is not available. Available metrics are: loss,precision_2,recall_2\n"
          ]
        },
        {
          "output_type": "stream",
          "name": "stdout",
          "text": [
            "\b\b\b\b\b\b\b\b\b\b\b\b\b\b\b\b\b\b\b\b\b\b\b\b\b\b\b\b\b\b\b\b\b\b\b\b\b\b\b\b\b\b\b\b\b\b\b\b\b\b\b\b\b\b\b\b\b\b\b\b\b\b\b\b\b\b\b\b\b\b\b\b\b\b\b\b\b\b\b\b\b\b\b\b\b\b\b\b\b\b\b\b\b\b\b\b\b\b\b\b\b\b\b\b\b\b\r263/263 [==============================] - 42s 159ms/step - loss: 0.1647 - precision_2: 0.5339 - recall_2: 0.2716\n",
            "Epoch 24/30\n",
            "263/263 [==============================] - ETA: 0s - loss: 0.1649 - precision_2: 0.5608 - recall_2: 0.3082"
          ]
        },
        {
          "output_type": "stream",
          "name": "stderr",
          "text": [
            "WARNING:tensorflow:Early stopping conditioned on metric `val_loss` which is not available. Available metrics are: loss,precision_2,recall_2\n"
          ]
        },
        {
          "output_type": "stream",
          "name": "stdout",
          "text": [
            "\b\b\b\b\b\b\b\b\b\b\b\b\b\b\b\b\b\b\b\b\b\b\b\b\b\b\b\b\b\b\b\b\b\b\b\b\b\b\b\b\b\b\b\b\b\b\b\b\b\b\b\b\b\b\b\b\b\b\b\b\b\b\b\b\b\b\b\b\b\b\b\b\b\b\b\b\b\b\b\b\b\b\b\b\b\b\b\b\b\b\b\b\b\b\b\b\b\b\b\b\b\b\b\b\b\b\r263/263 [==============================] - 42s 159ms/step - loss: 0.1649 - precision_2: 0.5608 - recall_2: 0.3082\n",
            "Epoch 25/30\n",
            "263/263 [==============================] - ETA: 0s - loss: 0.1639 - precision_2: 0.5723 - recall_2: 0.3836"
          ]
        },
        {
          "output_type": "stream",
          "name": "stderr",
          "text": [
            "WARNING:tensorflow:Early stopping conditioned on metric `val_loss` which is not available. Available metrics are: loss,precision_2,recall_2\n"
          ]
        },
        {
          "output_type": "stream",
          "name": "stdout",
          "text": [
            "\b\b\b\b\b\b\b\b\b\b\b\b\b\b\b\b\b\b\b\b\b\b\b\b\b\b\b\b\b\b\b\b\b\b\b\b\b\b\b\b\b\b\b\b\b\b\b\b\b\b\b\b\b\b\b\b\b\b\b\b\b\b\b\b\b\b\b\b\b\b\b\b\b\b\b\b\b\b\b\b\b\b\b\b\b\b\b\b\b\b\b\b\b\b\b\b\b\b\b\b\b\b\b\b\b\b\r263/263 [==============================] - 42s 160ms/step - loss: 0.1639 - precision_2: 0.5723 - recall_2: 0.3836\n",
            "Epoch 26/30\n",
            "263/263 [==============================] - ETA: 0s - loss: 0.1635 - precision_2: 0.5714 - recall_2: 0.3276"
          ]
        },
        {
          "output_type": "stream",
          "name": "stderr",
          "text": [
            "WARNING:tensorflow:Early stopping conditioned on metric `val_loss` which is not available. Available metrics are: loss,precision_2,recall_2\n"
          ]
        },
        {
          "output_type": "stream",
          "name": "stdout",
          "text": [
            "\b\b\b\b\b\b\b\b\b\b\b\b\b\b\b\b\b\b\b\b\b\b\b\b\b\b\b\b\b\b\b\b\b\b\b\b\b\b\b\b\b\b\b\b\b\b\b\b\b\b\b\b\b\b\b\b\b\b\b\b\b\b\b\b\b\b\b\b\b\b\b\b\b\b\b\b\b\b\b\b\b\b\b\b\b\b\b\b\b\b\b\b\b\b\b\b\b\b\b\b\b\b\b\b\b\b\r263/263 [==============================] - 43s 164ms/step - loss: 0.1635 - precision_2: 0.5714 - recall_2: 0.3276\n",
            "Epoch 27/30\n",
            "263/263 [==============================] - ETA: 0s - loss: 0.1631 - precision_2: 0.5804 - recall_2: 0.3190"
          ]
        },
        {
          "output_type": "stream",
          "name": "stderr",
          "text": [
            "WARNING:tensorflow:Early stopping conditioned on metric `val_loss` which is not available. Available metrics are: loss,precision_2,recall_2\n"
          ]
        },
        {
          "output_type": "stream",
          "name": "stdout",
          "text": [
            "\b\b\b\b\b\b\b\b\b\b\b\b\b\b\b\b\b\b\b\b\b\b\b\b\b\b\b\b\b\b\b\b\b\b\b\b\b\b\b\b\b\b\b\b\b\b\b\b\b\b\b\b\b\b\b\b\b\b\b\b\b\b\b\b\b\b\b\b\b\b\b\b\b\b\b\b\b\b\b\b\b\b\b\b\b\b\b\b\b\b\b\b\b\b\b\b\b\b\b\b\b\b\b\b\b\b\r263/263 [==============================] - 43s 162ms/step - loss: 0.1631 - precision_2: 0.5804 - recall_2: 0.3190\n",
            "Epoch 28/30\n",
            "263/263 [==============================] - ETA: 0s - loss: 0.1640 - precision_2: 0.5526 - recall_2: 0.3621"
          ]
        },
        {
          "output_type": "stream",
          "name": "stderr",
          "text": [
            "WARNING:tensorflow:Early stopping conditioned on metric `val_loss` which is not available. Available metrics are: loss,precision_2,recall_2\n"
          ]
        },
        {
          "output_type": "stream",
          "name": "stdout",
          "text": [
            "\b\b\b\b\b\b\b\b\b\b\b\b\b\b\b\b\b\b\b\b\b\b\b\b\b\b\b\b\b\b\b\b\b\b\b\b\b\b\b\b\b\b\b\b\b\b\b\b\b\b\b\b\b\b\b\b\b\b\b\b\b\b\b\b\b\b\b\b\b\b\b\b\b\b\b\b\b\b\b\b\b\b\b\b\b\b\b\b\b\b\b\b\b\b\b\b\b\b\b\b\b\b\b\b\b\b\r263/263 [==============================] - 42s 161ms/step - loss: 0.1640 - precision_2: 0.5526 - recall_2: 0.3621\n",
            "Epoch 29/30\n",
            "263/263 [==============================] - ETA: 0s - loss: 0.1639 - precision_2: 0.5627 - recall_2: 0.3772"
          ]
        },
        {
          "output_type": "stream",
          "name": "stderr",
          "text": [
            "WARNING:tensorflow:Early stopping conditioned on metric `val_loss` which is not available. Available metrics are: loss,precision_2,recall_2\n"
          ]
        },
        {
          "output_type": "stream",
          "name": "stdout",
          "text": [
            "\b\b\b\b\b\b\b\b\b\b\b\b\b\b\b\b\b\b\b\b\b\b\b\b\b\b\b\b\b\b\b\b\b\b\b\b\b\b\b\b\b\b\b\b\b\b\b\b\b\b\b\b\b\b\b\b\b\b\b\b\b\b\b\b\b\b\b\b\b\b\b\b\b\b\b\b\b\b\b\b\b\b\b\b\b\b\b\b\b\b\b\b\b\b\b\b\b\b\b\b\b\b\b\b\b\b\r263/263 [==============================] - 43s 164ms/step - loss: 0.1639 - precision_2: 0.5627 - recall_2: 0.3772\n",
            "Epoch 30/30\n",
            "263/263 [==============================] - ETA: 0s - loss: 0.1634 - precision_2: 0.5739 - recall_2: 0.3599"
          ]
        },
        {
          "output_type": "stream",
          "name": "stderr",
          "text": [
            "WARNING:tensorflow:Early stopping conditioned on metric `val_loss` which is not available. Available metrics are: loss,precision_2,recall_2\n"
          ]
        },
        {
          "output_type": "stream",
          "name": "stdout",
          "text": [
            "\b\b\b\b\b\b\b\b\b\b\b\b\b\b\b\b\b\b\b\b\b\b\b\b\b\b\b\b\b\b\b\b\b\b\b\b\b\b\b\b\b\b\b\b\b\b\b\b\b\b\b\b\b\b\b\b\b\b\b\b\b\b\b\b\b\b\b\b\b\b\b\b\b\b\b\b\b\b\b\b\b\b\b\b\b\b\b\b\b\b\b\b\b\b\b\b\b\b\b\b\b\b\b\b\b\b\r263/263 [==============================] - 42s 161ms/step - loss: 0.1634 - precision_2: 0.5739 - recall_2: 0.3599\n"
          ]
        }
      ]
    },
    {
      "cell_type": "markdown",
      "source": [
        "# Przewidywanie anomalii\n",
        "\n",
        "Sprawdź jakość predykcji Twojej sieci na zbiorze testowym.\n",
        "\n",
        "1.\tJeśli Twoja sieć przewiduje następny element – do wykrywania anomalii możesz użyć metody TOP X (jeśli następny element nie jest w TOP X przewidzianych prawdopodobieństw to będzie anomalią) albo metody odcięcia (jeśli prawdopodobieństwo następnego elementu jest mniejsze niż X, to jest anomalią).\n",
        "2.\tJeśli Twoja sieć przewiduje anomalie na podstawie dwóch wejść – możesz to traktować jak zwykłą klasyfikację.\n"
      ],
      "metadata": {
        "id": "x7N3ViMfDRD6"
      }
    },
    {
      "cell_type": "markdown",
      "source": [
        "## Sieć przewidująca następny element\n",
        "\n",
        "Poniższy fragment pokazuje sposób rozwiązania z wykorzystaniem sieci przewidującej następny element.\n",
        "* **Krok 1** - predykcja następnego elementu, mając daną sekwencję testową. Każda predykcja to wektor o długości takiej jak “słownik” wszystkich dopuszczalnych elementów .\n",
        "* **Krok 2** - posortowanie predykcji, żeby wybrać top N (np. top 3) tych o najwyższym prawdopodobieństwie.\n",
        "* **Krok 3** - sprawdzenie, czy zdarzenie, które nastąpiło mieści się w top N. Jeśli nie – zostaje uznane za anomalię.\n",
        "\n"
      ],
      "metadata": {
        "id": "cX77V9jDdICL"
      }
    },
    {
      "cell_type": "code",
      "source": [
        "yhat_next_elem = model_nastepny_element.predict(test_dataset['x'])"
      ],
      "metadata": {
        "colab": {
          "base_uri": "https://localhost:8080/"
        },
        "id": "iViJFyW0CRjo",
        "outputId": "ea364f9c-75ef-4ecd-9871-b07919e19c4e"
      },
      "execution_count": 102,
      "outputs": [
        {
          "output_type": "stream",
          "name": "stdout",
          "text": [
            "807/807 [==============================] - 18s 20ms/step\n"
          ]
        }
      ]
    },
    {
      "cell_type": "code",
      "source": [
        "is_next_event_anomaly = []\n",
        "for idx in range(test_dataset['window_y'].shape[0]):\n",
        "    next_event = test_dataset['window_y'][idx]\n",
        "    most_probably_events = yhat_next_elem[idx].argsort()[::-1]\n",
        "    top = most_probably_events[:3]\n",
        "    is_next_event_anomaly.append(next_event not in top)"
      ],
      "metadata": {
        "id": "rZHBtJk5CbsD"
      },
      "execution_count": 103,
      "outputs": []
    },
    {
      "cell_type": "code",
      "source": [
        "\n",
        "print(classification_report(y_true=test_dataset['y'], y_pred=is_next_event_anomaly))"
      ],
      "metadata": {
        "id": "2z3o69G29xzS",
        "outputId": "ace90381-1a27-46e2-df0c-1a19b8662f97",
        "colab": {
          "base_uri": "https://localhost:8080/"
        }
      },
      "execution_count": 104,
      "outputs": [
        {
          "output_type": "stream",
          "name": "stdout",
          "text": [
            "              precision    recall  f1-score   support\n",
            "\n",
            "           0       0.97      0.44      0.61     24965\n",
            "           1       0.03      0.60      0.07       842\n",
            "\n",
            "    accuracy                           0.45     25807\n",
            "   macro avg       0.50      0.52      0.34     25807\n",
            "weighted avg       0.94      0.45      0.59     25807\n",
            "\n"
          ]
        }
      ]
    },
    {
      "cell_type": "markdown",
      "source": [
        "## Model pracujący na dwóch wejściach\n",
        "\n",
        "Poniższy fragment pokazuje sposób rozwiązania z wykorzystaniem sieci klasyfikującej anomalie. Jest to zwyczajna sieć do klasyfikacji binarnej. Odróżnia się tym, że posiada dwa wejścia: sekwencję poprzedzającą i zdarzenie, które nastąpiło potem."
      ],
      "metadata": {
        "id": "OtKVoZg8_h8J"
      }
    },
    {
      "cell_type": "code",
      "source": [
        "yhat_anomaly = model_anomaly.predict([test_dataset['x'], test_dataset['window_y']])"
      ],
      "metadata": {
        "colab": {
          "base_uri": "https://localhost:8080/"
        },
        "id": "AqTJums8fXtP",
        "outputId": "574592cf-4057-478e-ba8e-1c26faccf955"
      },
      "execution_count": 107,
      "outputs": [
        {
          "output_type": "stream",
          "name": "stdout",
          "text": [
            "807/807 [==============================] - 28s 34ms/step\n"
          ]
        }
      ]
    },
    {
      "cell_type": "code",
      "source": [
        "yhat_anomaly_cls = yhat_anomaly > 0.5"
      ],
      "metadata": {
        "id": "imgta2Fmfdsx"
      },
      "execution_count": 108,
      "outputs": []
    },
    {
      "cell_type": "code",
      "source": [
        "print(classification_report(y_true=test_dataset['y'], y_pred=yhat_anomaly_cls))"
      ],
      "metadata": {
        "id": "_Mrbd8wvfmOG",
        "outputId": "9462a7f8-ea68-4664-c8ec-2203bcf6ca5e",
        "colab": {
          "base_uri": "https://localhost:8080/"
        }
      },
      "execution_count": 109,
      "outputs": [
        {
          "output_type": "stream",
          "name": "stdout",
          "text": [
            "              precision    recall  f1-score   support\n",
            "\n",
            "           0       0.97      1.00      0.98     24965\n",
            "           1       0.00      0.00      0.00       842\n",
            "\n",
            "    accuracy                           0.97     25807\n",
            "   macro avg       0.48      0.50      0.49     25807\n",
            "weighted avg       0.94      0.97      0.95     25807\n",
            "\n"
          ]
        },
        {
          "output_type": "stream",
          "name": "stderr",
          "text": [
            "/usr/local/lib/python3.10/dist-packages/sklearn/metrics/_classification.py:1344: UndefinedMetricWarning: Precision and F-score are ill-defined and being set to 0.0 in labels with no predicted samples. Use `zero_division` parameter to control this behavior.\n",
            "  _warn_prf(average, modifier, msg_start, len(result))\n",
            "/usr/local/lib/python3.10/dist-packages/sklearn/metrics/_classification.py:1344: UndefinedMetricWarning: Precision and F-score are ill-defined and being set to 0.0 in labels with no predicted samples. Use `zero_division` parameter to control this behavior.\n",
            "  _warn_prf(average, modifier, msg_start, len(result))\n",
            "/usr/local/lib/python3.10/dist-packages/sklearn/metrics/_classification.py:1344: UndefinedMetricWarning: Precision and F-score are ill-defined and being set to 0.0 in labels with no predicted samples. Use `zero_division` parameter to control this behavior.\n",
            "  _warn_prf(average, modifier, msg_start, len(result))\n"
          ]
        }
      ]
    }
  ]
}